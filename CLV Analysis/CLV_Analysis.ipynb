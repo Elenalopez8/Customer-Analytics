{
 "cells": [
  {
   "cell_type": "markdown",
   "metadata": {
    "ExecuteTime": {
     "end_time": "2020-08-21T17:55:17.626455Z",
     "start_time": "2020-08-21T17:55:17.622592Z"
    }
   },
   "source": [
    "### Customer Lifetime Value"
   ]
  },
  {
   "attachments": {},
   "cell_type": "markdown",
   "metadata": {},
   "source": [
    "#### Context for CLV Analysis\n",
    "\n",
    "\"Customer Lifetime Value is a monetary value that represents the amount of revenue or profit a customer will give the company over the period of the relationship\"\n",
    "\n",
    "Customer value is a two-way street. In essence, we need to focus on not only what value to provide to customers but also the value it could get from customers (ie. CLV analysis).\n",
    "\n",
    "CLV analysis helps answer the following questions: \n",
    "\n",
    "- How to Identify the most profitable customers?\n",
    "- How to segment profitable customers?\n",
    "- How much budget need to spend to acquire customers?\n",
    "\n",
    "\n",
    "#### Objective \n",
    "Develop a machine learning model to predict the CLV of newly customers using historical data of customer transactions and multiple linear regression. \n",
    "\n",
    "#### Dataset \n",
    "Dataset contains daily online transactions of customers across the world from December 2010 to December 2011.\n",
    "Dataset was obtained from UCI Machine Learning Repository. The dataset can be found in this link: \n",
    "http://archive.ics.uci.edu/ml/datasets/online+retail\n",
    "The dataset contains 541909 rows and 8 columns.\n",
    "\n",
    "#### Steps\n",
    "\n",
    "- 1. Data cleaning\n",
    "- 2. EDA\n",
    "- 3. CLV Calculation using historical data\n",
    "- 4. Prediction Model for CLV -> machine learning model  to predict the CLV of newly customers\n",
    "- 5. Final results and next steps\n"
   ]
  },
  {
   "cell_type": "markdown",
   "metadata": {
    "ExecuteTime": {
     "end_time": "2020-08-22T15:29:10.333766Z",
     "start_time": "2020-08-22T15:29:10.314930Z"
    }
   },
   "source": [
    "### Import libraries"
   ]
  },
  {
   "cell_type": "code",
   "execution_count": 2,
   "metadata": {
    "ExecuteTime": {
     "end_time": "2020-08-25T17:46:53.230387Z",
     "start_time": "2020-08-25T17:46:47.194172Z"
    }
   },
   "outputs": [
    {
     "name": "stderr",
     "output_type": "stream",
     "text": [
      "//anaconda3/lib/python3.7/site-packages/statsmodels/compat/pandas.py:23: FutureWarning: The Panel class is removed from pandas. Accessing it from the top-level namespace will also be removed in the next version\n",
      "  data_klasses = (pandas.Series, pandas.DataFrame, pandas.Panel)\n"
     ]
    }
   ],
   "source": [
    "import pandas as pd \n",
    "import matplotlib.pyplot as plt \n",
    "import seaborn as sns\n",
    "import datetime as dt\n",
    "import numpy as np\n",
    "import os\n",
    "import warnings\n",
    "from sklearn.model_selection import train_test_split\n",
    "from sklearn.linear_model import LinearRegression\n",
    "from sklearn import metrics\n",
    "import statsmodels.api as sm\n",
    "from sklearn.metrics import r2_score\n",
    "\n",
    "\n",
    "from pathlib import Path\n",
    "\n",
    "warnings.filterwarnings('ignore')"
   ]
  },
  {
   "cell_type": "code",
   "execution_count": 5,
   "metadata": {
    "ExecuteTime": {
     "end_time": "2020-08-25T17:47:22.625904Z",
     "start_time": "2020-08-25T17:47:22.615265Z"
    }
   },
   "outputs": [
    {
     "name": "stdout",
     "output_type": "stream",
     "text": [
      ".DS_Store\n",
      "Online Retail.xlsx\n",
      "CLV_Analysis.ipynb\n",
      "README.Rmd\n"
     ]
    }
   ],
   "source": [
    "#Check current directory\n",
    "os.getcwd()\n",
    "\n",
    "#Change directory\n",
    "os.chdir('/Users/elenalopez/Desktop/Projects/Python/CLV/CLV Analysis')\n",
    "os.getcwd()\n",
    "\n",
    "#Check datasets\n",
    "path= Path()\n",
    "for i in path.glob(\"*\"):\n",
    "    print(i)"
   ]
  },
  {
   "cell_type": "code",
   "execution_count": 6,
   "metadata": {
    "ExecuteTime": {
     "end_time": "2020-08-25T17:48:51.485251Z",
     "start_time": "2020-08-25T17:47:24.806743Z"
    }
   },
   "outputs": [],
   "source": [
    "df = pd.read_excel(\"Online Retail.xlsx\")"
   ]
  },
  {
   "cell_type": "code",
   "execution_count": 9,
   "metadata": {
    "ExecuteTime": {
     "end_time": "2020-08-25T17:49:13.591397Z",
     "start_time": "2020-08-25T17:49:13.574077Z"
    }
   },
   "outputs": [
    {
     "data": {
      "text/html": [
       "<div>\n",
       "<style scoped>\n",
       "    .dataframe tbody tr th:only-of-type {\n",
       "        vertical-align: middle;\n",
       "    }\n",
       "\n",
       "    .dataframe tbody tr th {\n",
       "        vertical-align: top;\n",
       "    }\n",
       "\n",
       "    .dataframe thead th {\n",
       "        text-align: right;\n",
       "    }\n",
       "</style>\n",
       "<table border=\"1\" class=\"dataframe\">\n",
       "  <thead>\n",
       "    <tr style=\"text-align: right;\">\n",
       "      <th></th>\n",
       "      <th>InvoiceNo</th>\n",
       "      <th>StockCode</th>\n",
       "      <th>Description</th>\n",
       "      <th>Quantity</th>\n",
       "      <th>InvoiceDate</th>\n",
       "      <th>UnitPrice</th>\n",
       "      <th>CustomerID</th>\n",
       "      <th>Country</th>\n",
       "    </tr>\n",
       "  </thead>\n",
       "  <tbody>\n",
       "    <tr>\n",
       "      <th>0</th>\n",
       "      <td>536365</td>\n",
       "      <td>85123A</td>\n",
       "      <td>WHITE HANGING HEART T-LIGHT HOLDER</td>\n",
       "      <td>6</td>\n",
       "      <td>2010-12-01 08:26:00</td>\n",
       "      <td>2.55</td>\n",
       "      <td>17850.0</td>\n",
       "      <td>United Kingdom</td>\n",
       "    </tr>\n",
       "    <tr>\n",
       "      <th>1</th>\n",
       "      <td>536365</td>\n",
       "      <td>71053</td>\n",
       "      <td>WHITE METAL LANTERN</td>\n",
       "      <td>6</td>\n",
       "      <td>2010-12-01 08:26:00</td>\n",
       "      <td>3.39</td>\n",
       "      <td>17850.0</td>\n",
       "      <td>United Kingdom</td>\n",
       "    </tr>\n",
       "    <tr>\n",
       "      <th>2</th>\n",
       "      <td>536365</td>\n",
       "      <td>84406B</td>\n",
       "      <td>CREAM CUPID HEARTS COAT HANGER</td>\n",
       "      <td>8</td>\n",
       "      <td>2010-12-01 08:26:00</td>\n",
       "      <td>2.75</td>\n",
       "      <td>17850.0</td>\n",
       "      <td>United Kingdom</td>\n",
       "    </tr>\n",
       "    <tr>\n",
       "      <th>3</th>\n",
       "      <td>536365</td>\n",
       "      <td>84029G</td>\n",
       "      <td>KNITTED UNION FLAG HOT WATER BOTTLE</td>\n",
       "      <td>6</td>\n",
       "      <td>2010-12-01 08:26:00</td>\n",
       "      <td>3.39</td>\n",
       "      <td>17850.0</td>\n",
       "      <td>United Kingdom</td>\n",
       "    </tr>\n",
       "    <tr>\n",
       "      <th>4</th>\n",
       "      <td>536365</td>\n",
       "      <td>84029E</td>\n",
       "      <td>RED WOOLLY HOTTIE WHITE HEART.</td>\n",
       "      <td>6</td>\n",
       "      <td>2010-12-01 08:26:00</td>\n",
       "      <td>3.39</td>\n",
       "      <td>17850.0</td>\n",
       "      <td>United Kingdom</td>\n",
       "    </tr>\n",
       "  </tbody>\n",
       "</table>\n",
       "</div>"
      ],
      "text/plain": [
       "  InvoiceNo StockCode                          Description  Quantity  \\\n",
       "0    536365    85123A   WHITE HANGING HEART T-LIGHT HOLDER         6   \n",
       "1    536365     71053                  WHITE METAL LANTERN         6   \n",
       "2    536365    84406B       CREAM CUPID HEARTS COAT HANGER         8   \n",
       "3    536365    84029G  KNITTED UNION FLAG HOT WATER BOTTLE         6   \n",
       "4    536365    84029E       RED WOOLLY HOTTIE WHITE HEART.         6   \n",
       "\n",
       "          InvoiceDate  UnitPrice  CustomerID         Country  \n",
       "0 2010-12-01 08:26:00       2.55     17850.0  United Kingdom  \n",
       "1 2010-12-01 08:26:00       3.39     17850.0  United Kingdom  \n",
       "2 2010-12-01 08:26:00       2.75     17850.0  United Kingdom  \n",
       "3 2010-12-01 08:26:00       3.39     17850.0  United Kingdom  \n",
       "4 2010-12-01 08:26:00       3.39     17850.0  United Kingdom  "
      ]
     },
     "execution_count": 9,
     "metadata": {},
     "output_type": "execute_result"
    }
   ],
   "source": [
    "df.head(5)"
   ]
  },
  {
   "cell_type": "code",
   "execution_count": 11,
   "metadata": {
    "ExecuteTime": {
     "end_time": "2020-08-25T17:50:18.092949Z",
     "start_time": "2020-08-25T17:50:15.092773Z"
    }
   },
   "outputs": [
    {
     "name": "stdout",
     "output_type": "stream",
     "text": [
      "Max data: 2011-12-09 12:50:00\n",
      "Min data: 2010-12-01 08:26:00\n"
     ]
    }
   ],
   "source": [
    "print(f\"Max data: {max(df.InvoiceDate)}\")\n",
    "print(f\"Min data: {min(df.InvoiceDate)}\")"
   ]
  },
  {
   "cell_type": "markdown",
   "metadata": {},
   "source": [
    "### Data cleaning"
   ]
  },
  {
   "cell_type": "code",
   "execution_count": 5,
   "metadata": {
    "ExecuteTime": {
     "end_time": "2020-08-24T16:44:24.196960Z",
     "start_time": "2020-08-24T16:44:24.187408Z"
    }
   },
   "outputs": [
    {
     "name": "stdout",
     "output_type": "stream",
     "text": [
      "The dataset has 541909 rows and 8 columns.\n"
     ]
    }
   ],
   "source": [
    "#Exploring dataset\n",
    "\n",
    "print(f\"The dataset has {df.shape[0]} rows and {df.shape[1]} columns.\")"
   ]
  },
  {
   "cell_type": "code",
   "execution_count": 6,
   "metadata": {
    "ExecuteTime": {
     "end_time": "2020-08-24T16:44:24.433959Z",
     "start_time": "2020-08-24T16:44:24.200347Z"
    }
   },
   "outputs": [
    {
     "name": "stdout",
     "output_type": "stream",
     "text": [
      "<class 'pandas.core.frame.DataFrame'>\n",
      "RangeIndex: 541909 entries, 0 to 541908\n",
      "Data columns (total 8 columns):\n",
      "InvoiceNo      541909 non-null object\n",
      "StockCode      541909 non-null object\n",
      "Description    540455 non-null object\n",
      "Quantity       541909 non-null int64\n",
      "InvoiceDate    541909 non-null datetime64[ns]\n",
      "UnitPrice      541909 non-null float64\n",
      "CustomerID     406829 non-null float64\n",
      "Country        541909 non-null object\n",
      "dtypes: datetime64[ns](1), float64(2), int64(1), object(4)\n",
      "memory usage: 33.1+ MB\n"
     ]
    }
   ],
   "source": [
    "df.info()"
   ]
  },
  {
   "cell_type": "code",
   "execution_count": 7,
   "metadata": {
    "ExecuteTime": {
     "end_time": "2020-08-24T16:44:24.472806Z",
     "start_time": "2020-08-24T16:44:24.449610Z"
    }
   },
   "outputs": [
    {
     "data": {
      "text/plain": [
       "Index(['InvoiceNo', 'StockCode', 'Description', 'Quantity', 'InvoiceDate',\n",
       "       'UnitPrice', 'CustomerID', 'Country'],\n",
       "      dtype='object')"
      ]
     },
     "execution_count": 7,
     "metadata": {},
     "output_type": "execute_result"
    }
   ],
   "source": [
    "df.columns"
   ]
  },
  {
   "cell_type": "code",
   "execution_count": 8,
   "metadata": {
    "ExecuteTime": {
     "end_time": "2020-08-24T16:44:24.678403Z",
     "start_time": "2020-08-24T16:44:24.491967Z"
    }
   },
   "outputs": [
    {
     "name": "stdout",
     "output_type": "stream",
     "text": [
      "541909\n",
      "25900\n",
      "541909\n",
      "4070\n",
      "406829\n",
      "4372\n"
     ]
    }
   ],
   "source": [
    "#Unique invoice number? \n",
    "print(df[\"InvoiceNo\"].count())\n",
    "print(df.iloc[:,0].nunique())\n",
    "#Invoice contains different items -- each item is a row\n",
    "\n",
    "\n",
    "#Unique StockCode? \n",
    "print(df[\"StockCode\"].count())\n",
    "print(df.iloc[:,1].nunique())\n",
    "#It seems the products.\n",
    "\n",
    "#Unique customer? \n",
    "print(df[\"CustomerID\"].count())\n",
    "print(df[\"CustomerID\"].nunique())\n",
    "#Not sure... some missing values. Needs more exploration."
   ]
  },
  {
   "cell_type": "markdown",
   "metadata": {
    "ExecuteTime": {
     "end_time": "2020-08-22T15:45:36.865750Z",
     "start_time": "2020-08-22T15:45:36.860283Z"
    }
   },
   "source": [
    "#### Missing values"
   ]
  },
  {
   "cell_type": "code",
   "execution_count": 9,
   "metadata": {
    "ExecuteTime": {
     "end_time": "2020-08-24T16:44:25.390456Z",
     "start_time": "2020-08-24T16:44:24.724950Z"
    }
   },
   "outputs": [
    {
     "data": {
      "text/html": [
       "<div>\n",
       "<style scoped>\n",
       "    .dataframe tbody tr th:only-of-type {\n",
       "        vertical-align: middle;\n",
       "    }\n",
       "\n",
       "    .dataframe tbody tr th {\n",
       "        vertical-align: top;\n",
       "    }\n",
       "\n",
       "    .dataframe thead th {\n",
       "        text-align: right;\n",
       "    }\n",
       "</style>\n",
       "<table border=\"1\" class=\"dataframe\">\n",
       "  <thead>\n",
       "    <tr style=\"text-align: right;\">\n",
       "      <th></th>\n",
       "      <th>Missing_values</th>\n",
       "      <th>Percentage(%)</th>\n",
       "    </tr>\n",
       "  </thead>\n",
       "  <tbody>\n",
       "    <tr>\n",
       "      <th>CustomerID</th>\n",
       "      <td>135080</td>\n",
       "      <td>33.203</td>\n",
       "    </tr>\n",
       "    <tr>\n",
       "      <th>Description</th>\n",
       "      <td>1454</td>\n",
       "      <td>0.269</td>\n",
       "    </tr>\n",
       "  </tbody>\n",
       "</table>\n",
       "</div>"
      ],
      "text/plain": [
       "             Missing_values  Percentage(%)\n",
       "CustomerID           135080         33.203\n",
       "Description            1454          0.269"
      ]
     },
     "execution_count": 9,
     "metadata": {},
     "output_type": "execute_result"
    }
   ],
   "source": [
    "def na_values(dataset):\n",
    "    df_na = pd.DataFrame(df.isnull().sum()).rename(columns={0: \"Missing_values\"})\n",
    "    df_na[\"Percentage(%)\"]= round((df_na.iloc[:,0] / df.count()) * 100,3)\n",
    "    return df_na[df_na.Missing_values > 0].sort_values(\"Missing_values\", ascending=False)\n",
    "\n",
    "na_values(df)"
   ]
  },
  {
   "cell_type": "code",
   "execution_count": 10,
   "metadata": {
    "ExecuteTime": {
     "end_time": "2020-08-24T16:44:27.370196Z",
     "start_time": "2020-08-24T16:44:25.393186Z"
    }
   },
   "outputs": [
    {
     "data": {
      "text/plain": [
       "InvoiceNo      3710\n",
       "StockCode      3810\n",
       "Description    3554\n",
       "Quantity        541\n",
       "InvoiceDate    3161\n",
       "UnitPrice      1195\n",
       "CustomerID        0\n",
       "Country           9\n",
       "dtype: int64"
      ]
     },
     "execution_count": 10,
     "metadata": {},
     "output_type": "execute_result"
    }
   ],
   "source": [
    "#Exploring missing_values in CustomerID\n",
    "\n",
    "df[df['CustomerID'].isnull()].nunique()\n",
    "\n",
    "#df.index[df['CustomerID'].isnull()].tolist()\n",
    "\n",
    "#df[df['InvoiceNo']== 536414]\n",
    "\n",
    "#Let's see if we need this column moving forward"
   ]
  },
  {
   "cell_type": "code",
   "execution_count": 11,
   "metadata": {
    "ExecuteTime": {
     "end_time": "2020-08-24T16:44:27.423899Z",
     "start_time": "2020-08-24T16:44:27.373391Z"
    }
   },
   "outputs": [
    {
     "data": {
      "text/plain": [
       "960"
      ]
     },
     "execution_count": 11,
     "metadata": {},
     "output_type": "execute_result"
    }
   ],
   "source": [
    "#Exploring missing values in Description\n",
    "\n",
    "df[df['Description'].isnull()][\"StockCode\"].nunique()\n"
   ]
  },
  {
   "cell_type": "markdown",
   "metadata": {},
   "source": [
    "### Duplicates"
   ]
  },
  {
   "cell_type": "code",
   "execution_count": 12,
   "metadata": {
    "ExecuteTime": {
     "end_time": "2020-08-24T16:44:27.435509Z",
     "start_time": "2020-08-24T16:44:27.427038Z"
    }
   },
   "outputs": [
    {
     "data": {
      "text/plain": [
       "Index(['InvoiceNo', 'StockCode', 'Description', 'Quantity', 'InvoiceDate',\n",
       "       'UnitPrice', 'CustomerID', 'Country'],\n",
       "      dtype='object')"
      ]
     },
     "execution_count": 12,
     "metadata": {},
     "output_type": "execute_result"
    }
   ],
   "source": [
    "df.columns"
   ]
  },
  {
   "cell_type": "code",
   "execution_count": 13,
   "metadata": {
    "ExecuteTime": {
     "end_time": "2020-08-24T16:44:27.850617Z",
     "start_time": "2020-08-24T16:44:27.440220Z"
    }
   },
   "outputs": [
    {
     "data": {
      "text/html": [
       "<div>\n",
       "<style scoped>\n",
       "    .dataframe tbody tr th:only-of-type {\n",
       "        vertical-align: middle;\n",
       "    }\n",
       "\n",
       "    .dataframe tbody tr th {\n",
       "        vertical-align: top;\n",
       "    }\n",
       "\n",
       "    .dataframe thead th {\n",
       "        text-align: right;\n",
       "    }\n",
       "</style>\n",
       "<table border=\"1\" class=\"dataframe\">\n",
       "  <thead>\n",
       "    <tr style=\"text-align: right;\">\n",
       "      <th></th>\n",
       "      <th>InvoiceNo</th>\n",
       "      <th>StockCode</th>\n",
       "      <th>Description</th>\n",
       "      <th>Quantity</th>\n",
       "      <th>InvoiceDate</th>\n",
       "      <th>UnitPrice</th>\n",
       "      <th>CustomerID</th>\n",
       "      <th>Country</th>\n",
       "    </tr>\n",
       "  </thead>\n",
       "  <tbody>\n",
       "    <tr>\n",
       "      <th>517</th>\n",
       "      <td>536409</td>\n",
       "      <td>21866</td>\n",
       "      <td>UNION JACK FLAG LUGGAGE TAG</td>\n",
       "      <td>1</td>\n",
       "      <td>2010-12-01 11:45:00</td>\n",
       "      <td>1.25</td>\n",
       "      <td>17908.0</td>\n",
       "      <td>United Kingdom</td>\n",
       "    </tr>\n",
       "    <tr>\n",
       "      <th>527</th>\n",
       "      <td>536409</td>\n",
       "      <td>22866</td>\n",
       "      <td>HAND WARMER SCOTTY DOG DESIGN</td>\n",
       "      <td>1</td>\n",
       "      <td>2010-12-01 11:45:00</td>\n",
       "      <td>2.10</td>\n",
       "      <td>17908.0</td>\n",
       "      <td>United Kingdom</td>\n",
       "    </tr>\n",
       "    <tr>\n",
       "      <th>537</th>\n",
       "      <td>536409</td>\n",
       "      <td>22900</td>\n",
       "      <td>SET 2 TEA TOWELS I LOVE LONDON</td>\n",
       "      <td>1</td>\n",
       "      <td>2010-12-01 11:45:00</td>\n",
       "      <td>2.95</td>\n",
       "      <td>17908.0</td>\n",
       "      <td>United Kingdom</td>\n",
       "    </tr>\n",
       "    <tr>\n",
       "      <th>539</th>\n",
       "      <td>536409</td>\n",
       "      <td>22111</td>\n",
       "      <td>SCOTTIE DOG HOT WATER BOTTLE</td>\n",
       "      <td>1</td>\n",
       "      <td>2010-12-01 11:45:00</td>\n",
       "      <td>4.95</td>\n",
       "      <td>17908.0</td>\n",
       "      <td>United Kingdom</td>\n",
       "    </tr>\n",
       "    <tr>\n",
       "      <th>555</th>\n",
       "      <td>536412</td>\n",
       "      <td>22327</td>\n",
       "      <td>ROUND SNACK BOXES SET OF 4 SKULLS</td>\n",
       "      <td>1</td>\n",
       "      <td>2010-12-01 11:49:00</td>\n",
       "      <td>2.95</td>\n",
       "      <td>17920.0</td>\n",
       "      <td>United Kingdom</td>\n",
       "    </tr>\n",
       "    <tr>\n",
       "      <th>...</th>\n",
       "      <td>...</td>\n",
       "      <td>...</td>\n",
       "      <td>...</td>\n",
       "      <td>...</td>\n",
       "      <td>...</td>\n",
       "      <td>...</td>\n",
       "      <td>...</td>\n",
       "      <td>...</td>\n",
       "    </tr>\n",
       "    <tr>\n",
       "      <th>541675</th>\n",
       "      <td>581538</td>\n",
       "      <td>22068</td>\n",
       "      <td>BLACK PIRATE TREASURE CHEST</td>\n",
       "      <td>1</td>\n",
       "      <td>2011-12-09 11:34:00</td>\n",
       "      <td>0.39</td>\n",
       "      <td>14446.0</td>\n",
       "      <td>United Kingdom</td>\n",
       "    </tr>\n",
       "    <tr>\n",
       "      <th>541689</th>\n",
       "      <td>581538</td>\n",
       "      <td>23318</td>\n",
       "      <td>BOX OF 6 MINI VINTAGE CRACKERS</td>\n",
       "      <td>1</td>\n",
       "      <td>2011-12-09 11:34:00</td>\n",
       "      <td>2.49</td>\n",
       "      <td>14446.0</td>\n",
       "      <td>United Kingdom</td>\n",
       "    </tr>\n",
       "    <tr>\n",
       "      <th>541692</th>\n",
       "      <td>581538</td>\n",
       "      <td>22992</td>\n",
       "      <td>REVOLVER WOODEN RULER</td>\n",
       "      <td>1</td>\n",
       "      <td>2011-12-09 11:34:00</td>\n",
       "      <td>1.95</td>\n",
       "      <td>14446.0</td>\n",
       "      <td>United Kingdom</td>\n",
       "    </tr>\n",
       "    <tr>\n",
       "      <th>541699</th>\n",
       "      <td>581538</td>\n",
       "      <td>22694</td>\n",
       "      <td>WICKER STAR</td>\n",
       "      <td>1</td>\n",
       "      <td>2011-12-09 11:34:00</td>\n",
       "      <td>2.10</td>\n",
       "      <td>14446.0</td>\n",
       "      <td>United Kingdom</td>\n",
       "    </tr>\n",
       "    <tr>\n",
       "      <th>541701</th>\n",
       "      <td>581538</td>\n",
       "      <td>23343</td>\n",
       "      <td>JUMBO BAG VINTAGE CHRISTMAS</td>\n",
       "      <td>1</td>\n",
       "      <td>2011-12-09 11:34:00</td>\n",
       "      <td>2.08</td>\n",
       "      <td>14446.0</td>\n",
       "      <td>United Kingdom</td>\n",
       "    </tr>\n",
       "  </tbody>\n",
       "</table>\n",
       "<p>5268 rows × 8 columns</p>\n",
       "</div>"
      ],
      "text/plain": [
       "       InvoiceNo StockCode                        Description  Quantity  \\\n",
       "517       536409     21866        UNION JACK FLAG LUGGAGE TAG         1   \n",
       "527       536409     22866      HAND WARMER SCOTTY DOG DESIGN         1   \n",
       "537       536409     22900    SET 2 TEA TOWELS I LOVE LONDON          1   \n",
       "539       536409     22111       SCOTTIE DOG HOT WATER BOTTLE         1   \n",
       "555       536412     22327  ROUND SNACK BOXES SET OF 4 SKULLS         1   \n",
       "...          ...       ...                                ...       ...   \n",
       "541675    581538     22068        BLACK PIRATE TREASURE CHEST         1   \n",
       "541689    581538     23318     BOX OF 6 MINI VINTAGE CRACKERS         1   \n",
       "541692    581538     22992             REVOLVER WOODEN RULER          1   \n",
       "541699    581538     22694                       WICKER STAR          1   \n",
       "541701    581538     23343       JUMBO BAG VINTAGE CHRISTMAS          1   \n",
       "\n",
       "               InvoiceDate  UnitPrice  CustomerID         Country  \n",
       "517    2010-12-01 11:45:00       1.25     17908.0  United Kingdom  \n",
       "527    2010-12-01 11:45:00       2.10     17908.0  United Kingdom  \n",
       "537    2010-12-01 11:45:00       2.95     17908.0  United Kingdom  \n",
       "539    2010-12-01 11:45:00       4.95     17908.0  United Kingdom  \n",
       "555    2010-12-01 11:49:00       2.95     17920.0  United Kingdom  \n",
       "...                    ...        ...         ...             ...  \n",
       "541675 2011-12-09 11:34:00       0.39     14446.0  United Kingdom  \n",
       "541689 2011-12-09 11:34:00       2.49     14446.0  United Kingdom  \n",
       "541692 2011-12-09 11:34:00       1.95     14446.0  United Kingdom  \n",
       "541699 2011-12-09 11:34:00       2.10     14446.0  United Kingdom  \n",
       "541701 2011-12-09 11:34:00       2.08     14446.0  United Kingdom  \n",
       "\n",
       "[5268 rows x 8 columns]"
      ]
     },
     "execution_count": 13,
     "metadata": {},
     "output_type": "execute_result"
    }
   ],
   "source": [
    "df_dupli = df[df.duplicated()]\n",
    "df_dupli"
   ]
  },
  {
   "cell_type": "markdown",
   "metadata": {},
   "source": [
    "### EDA"
   ]
  },
  {
   "cell_type": "markdown",
   "metadata": {},
   "source": [
    "#### Top-ten country's customer"
   ]
  },
  {
   "cell_type": "code",
   "execution_count": 14,
   "metadata": {
    "ExecuteTime": {
     "end_time": "2020-08-24T16:44:27.950832Z",
     "start_time": "2020-08-24T16:44:27.854601Z"
    }
   },
   "outputs": [
    {
     "data": {
      "text/html": [
       "<div>\n",
       "<style scoped>\n",
       "    .dataframe tbody tr th:only-of-type {\n",
       "        vertical-align: middle;\n",
       "    }\n",
       "\n",
       "    .dataframe tbody tr th {\n",
       "        vertical-align: top;\n",
       "    }\n",
       "\n",
       "    .dataframe thead th {\n",
       "        text-align: right;\n",
       "    }\n",
       "</style>\n",
       "<table border=\"1\" class=\"dataframe\">\n",
       "  <thead>\n",
       "    <tr style=\"text-align: right;\">\n",
       "      <th></th>\n",
       "      <th>Country</th>\n",
       "      <th>CustomerID</th>\n",
       "    </tr>\n",
       "  </thead>\n",
       "  <tbody>\n",
       "    <tr>\n",
       "      <th>0</th>\n",
       "      <td>United Kingdom</td>\n",
       "      <td>17850.0</td>\n",
       "    </tr>\n",
       "    <tr>\n",
       "      <th>9</th>\n",
       "      <td>United Kingdom</td>\n",
       "      <td>13047.0</td>\n",
       "    </tr>\n",
       "    <tr>\n",
       "      <th>26</th>\n",
       "      <td>France</td>\n",
       "      <td>12583.0</td>\n",
       "    </tr>\n",
       "    <tr>\n",
       "      <th>46</th>\n",
       "      <td>United Kingdom</td>\n",
       "      <td>13748.0</td>\n",
       "    </tr>\n",
       "    <tr>\n",
       "      <th>65</th>\n",
       "      <td>United Kingdom</td>\n",
       "      <td>15100.0</td>\n",
       "    </tr>\n",
       "  </tbody>\n",
       "</table>\n",
       "</div>"
      ],
      "text/plain": [
       "           Country  CustomerID\n",
       "0   United Kingdom     17850.0\n",
       "9   United Kingdom     13047.0\n",
       "26          France     12583.0\n",
       "46  United Kingdom     13748.0\n",
       "65  United Kingdom     15100.0"
      ]
     },
     "execution_count": 14,
     "metadata": {},
     "output_type": "execute_result"
    }
   ],
   "source": [
    "df_country = df[[\"Country\", \"CustomerID\"]].drop_duplicates()\n",
    "df_country.head()"
   ]
  },
  {
   "cell_type": "code",
   "execution_count": 18,
   "metadata": {
    "ExecuteTime": {
     "end_time": "2020-08-24T16:47:19.949205Z",
     "start_time": "2020-08-24T16:47:19.937582Z"
    }
   },
   "outputs": [
    {
     "data": {
      "text/plain": [
       "United Kingdom    3951\n",
       "Germany             95\n",
       "France              88\n",
       "Spain               31\n",
       "Belgium             25\n",
       "Switzerland         22\n",
       "Portugal            20\n",
       "Italy               15\n",
       "Finland             12\n",
       "Austria             11\n",
       "Name: Country, dtype: int64"
      ]
     },
     "execution_count": 18,
     "metadata": {},
     "output_type": "execute_result"
    }
   ],
   "source": [
    "df_country[\"Country\"].value_counts()[:10]"
   ]
  },
  {
   "cell_type": "code",
   "execution_count": 22,
   "metadata": {
    "ExecuteTime": {
     "end_time": "2020-08-24T16:49:26.810948Z",
     "start_time": "2020-08-24T16:49:26.477609Z"
    }
   },
   "outputs": [
    {
     "data": {
      "text/plain": [
       "<matplotlib.axes._subplots.AxesSubplot at 0x1a2a5e7d30>"
      ]
     },
     "execution_count": 22,
     "metadata": {},
     "output_type": "execute_result"
    },
    {
     "data": {
      "image/png": "[encoded data removed]",
      "text/plain": [
       "<Figure size 432x288 with 1 Axes>"
      ]
     },
     "metadata": {
      "needs_background": "light"
     },
     "output_type": "display_data"
    }
   ],
   "source": [
    "df_country[\"Country\"].value_counts()[:10].plot(kind=\"bar\", color= 'red')"
   ]
  },
  {
   "cell_type": "markdown",
   "metadata": {},
   "source": [
    "Most of the customers are from UK"
   ]
  },
  {
   "cell_type": "markdown",
   "metadata": {},
   "source": [
    "#### Filtering by Country= \"United Kingdom\" -- when most of the customers are from"
   ]
  },
  {
   "cell_type": "code",
   "execution_count": 23,
   "metadata": {
    "ExecuteTime": {
     "end_time": "2020-08-24T16:50:51.946838Z",
     "start_time": "2020-08-24T16:50:51.596694Z"
    }
   },
   "outputs": [],
   "source": [
    "df_uk = df[df[\"Country\"]== \"United Kingdom\"]"
   ]
  },
  {
   "cell_type": "code",
   "execution_count": 24,
   "metadata": {
    "ExecuteTime": {
     "end_time": "2020-08-24T16:50:53.293244Z",
     "start_time": "2020-08-24T16:50:53.136975Z"
    }
   },
   "outputs": [
    {
     "data": {
      "text/html": [
       "<div>\n",
       "<style scoped>\n",
       "    .dataframe tbody tr th:only-of-type {\n",
       "        vertical-align: middle;\n",
       "    }\n",
       "\n",
       "    .dataframe tbody tr th {\n",
       "        vertical-align: top;\n",
       "    }\n",
       "\n",
       "    .dataframe thead th {\n",
       "        text-align: right;\n",
       "    }\n",
       "</style>\n",
       "<table border=\"1\" class=\"dataframe\">\n",
       "  <thead>\n",
       "    <tr style=\"text-align: right;\">\n",
       "      <th></th>\n",
       "      <th>Quantity</th>\n",
       "      <th>UnitPrice</th>\n",
       "      <th>CustomerID</th>\n",
       "    </tr>\n",
       "  </thead>\n",
       "  <tbody>\n",
       "    <tr>\n",
       "      <th>count</th>\n",
       "      <td>495478.000000</td>\n",
       "      <td>495478.000000</td>\n",
       "      <td>361878.000000</td>\n",
       "    </tr>\n",
       "    <tr>\n",
       "      <th>mean</th>\n",
       "      <td>8.605486</td>\n",
       "      <td>4.532422</td>\n",
       "      <td>15547.871368</td>\n",
       "    </tr>\n",
       "    <tr>\n",
       "      <th>std</th>\n",
       "      <td>227.588756</td>\n",
       "      <td>99.315438</td>\n",
       "      <td>1594.402590</td>\n",
       "    </tr>\n",
       "    <tr>\n",
       "      <th>min</th>\n",
       "      <td>-80995.000000</td>\n",
       "      <td>-11062.060000</td>\n",
       "      <td>12346.000000</td>\n",
       "    </tr>\n",
       "    <tr>\n",
       "      <th>25%</th>\n",
       "      <td>1.000000</td>\n",
       "      <td>1.250000</td>\n",
       "      <td>14194.000000</td>\n",
       "    </tr>\n",
       "    <tr>\n",
       "      <th>50%</th>\n",
       "      <td>3.000000</td>\n",
       "      <td>2.100000</td>\n",
       "      <td>15514.000000</td>\n",
       "    </tr>\n",
       "    <tr>\n",
       "      <th>75%</th>\n",
       "      <td>10.000000</td>\n",
       "      <td>4.130000</td>\n",
       "      <td>16931.000000</td>\n",
       "    </tr>\n",
       "    <tr>\n",
       "      <th>max</th>\n",
       "      <td>80995.000000</td>\n",
       "      <td>38970.000000</td>\n",
       "      <td>18287.000000</td>\n",
       "    </tr>\n",
       "  </tbody>\n",
       "</table>\n",
       "</div>"
      ],
      "text/plain": [
       "            Quantity      UnitPrice     CustomerID\n",
       "count  495478.000000  495478.000000  361878.000000\n",
       "mean        8.605486       4.532422   15547.871368\n",
       "std       227.588756      99.315438    1594.402590\n",
       "min    -80995.000000  -11062.060000   12346.000000\n",
       "25%         1.000000       1.250000   14194.000000\n",
       "50%         3.000000       2.100000   15514.000000\n",
       "75%        10.000000       4.130000   16931.000000\n",
       "max     80995.000000   38970.000000   18287.000000"
      ]
     },
     "execution_count": 24,
     "metadata": {},
     "output_type": "execute_result"
    }
   ],
   "source": [
    "df_uk.describe()"
   ]
  },
  {
   "cell_type": "code",
   "execution_count": 43,
   "metadata": {
    "ExecuteTime": {
     "end_time": "2020-08-24T17:46:40.238919Z",
     "start_time": "2020-08-24T17:46:40.161114Z"
    }
   },
   "outputs": [
    {
     "data": {
      "text/html": [
       "<div>\n",
       "<style scoped>\n",
       "    .dataframe tbody tr th:only-of-type {\n",
       "        vertical-align: middle;\n",
       "    }\n",
       "\n",
       "    .dataframe tbody tr th {\n",
       "        vertical-align: top;\n",
       "    }\n",
       "\n",
       "    .dataframe thead th {\n",
       "        text-align: right;\n",
       "    }\n",
       "</style>\n",
       "<table border=\"1\" class=\"dataframe\">\n",
       "  <thead>\n",
       "    <tr style=\"text-align: right;\">\n",
       "      <th></th>\n",
       "      <th>InvoiceNo</th>\n",
       "      <th>StockCode</th>\n",
       "      <th>Description</th>\n",
       "      <th>Quantity</th>\n",
       "      <th>InvoiceDate</th>\n",
       "      <th>UnitPrice</th>\n",
       "      <th>CustomerID</th>\n",
       "      <th>Country</th>\n",
       "    </tr>\n",
       "  </thead>\n",
       "  <tbody>\n",
       "    <tr>\n",
       "      <th>299983</th>\n",
       "      <td>A563186</td>\n",
       "      <td>B</td>\n",
       "      <td>Adjust bad debt</td>\n",
       "      <td>1</td>\n",
       "      <td>2011-08-12 14:51:00</td>\n",
       "      <td>-11062.06</td>\n",
       "      <td>NaN</td>\n",
       "      <td>United Kingdom</td>\n",
       "    </tr>\n",
       "    <tr>\n",
       "      <th>299984</th>\n",
       "      <td>A563187</td>\n",
       "      <td>B</td>\n",
       "      <td>Adjust bad debt</td>\n",
       "      <td>1</td>\n",
       "      <td>2011-08-12 14:52:00</td>\n",
       "      <td>-11062.06</td>\n",
       "      <td>NaN</td>\n",
       "      <td>United Kingdom</td>\n",
       "    </tr>\n",
       "  </tbody>\n",
       "</table>\n",
       "</div>"
      ],
      "text/plain": [
       "       InvoiceNo StockCode      Description  Quantity         InvoiceDate  \\\n",
       "299983   A563186         B  Adjust bad debt         1 2011-08-12 14:51:00   \n",
       "299984   A563187         B  Adjust bad debt         1 2011-08-12 14:52:00   \n",
       "\n",
       "        UnitPrice  CustomerID         Country  \n",
       "299983  -11062.06         NaN  United Kingdom  \n",
       "299984  -11062.06         NaN  United Kingdom  "
      ]
     },
     "execution_count": 43,
     "metadata": {},
     "output_type": "execute_result"
    }
   ],
   "source": [
    "df_uk[df_uk[\"UnitPrice\"]<0] #negative unitprice -- adjust bad debt in description"
   ]
  },
  {
   "cell_type": "code",
   "execution_count": 44,
   "metadata": {
    "ExecuteTime": {
     "end_time": "2020-08-24T17:46:41.274367Z",
     "start_time": "2020-08-24T17:46:41.162942Z"
    }
   },
   "outputs": [
    {
     "data": {
      "text/plain": [
       "InvoiceNo      9192\n",
       "StockCode      9192\n",
       "Description    8330\n",
       "Quantity       9192\n",
       "InvoiceDate    9192\n",
       "UnitPrice      9192\n",
       "CustomerID     7533\n",
       "Country        9192\n",
       "dtype: int64"
      ]
     },
     "execution_count": 44,
     "metadata": {},
     "output_type": "execute_result"
    }
   ],
   "source": [
    "df_uk[df_uk[\"Quantity\"]<0].head()#negative quantity\n",
    "df_uk[df_uk[\"Quantity\"]<0].count() #9192 records with negative quantity-- impossible, drop it!"
   ]
  },
  {
   "cell_type": "markdown",
   "metadata": {
    "ExecuteTime": {
     "end_time": "2020-08-24T16:54:24.260549Z",
     "start_time": "2020-08-24T16:54:24.255733Z"
    }
   },
   "source": [
    "##### Drop records with negative unitprice and quantity"
   ]
  },
  {
   "cell_type": "markdown",
   "metadata": {},
   "source": [
    "Possible reasons: order cancellation or return materials"
   ]
  },
  {
   "cell_type": "code",
   "execution_count": 75,
   "metadata": {
    "ExecuteTime": {
     "end_time": "2020-08-24T18:24:29.574798Z",
     "start_time": "2020-08-24T18:24:29.458312Z"
    }
   },
   "outputs": [],
   "source": [
    "df_uk= df_uk[(df_uk[\"Quantity\"]>0) & (df_uk[\"UnitPrice\"]>0)]\n"
   ]
  },
  {
   "cell_type": "markdown",
   "metadata": {},
   "source": [
    "### CLV Calculation"
   ]
  },
  {
   "cell_type": "markdown",
   "metadata": {},
   "source": [
    "Columns needed -> CustomerID, InvoiceDate, InvoiceNo, Quantity, and UnitPrice.\n",
    "\n",
    "- CustomerID -> uniquely define different customers.\n",
    "- InvoiceDate -> define when the customer buy the products, when was the last time? (ie. Recency -- time since last purchase)\n",
    "- InvoiceNo -> count the number of times a customer performs a transaction (ie. Frequency).\n",
    "- Quantity -> count purchased item units in each transaction.\n",
    "- UnitPrice of each unit purchased - calculate the total purchased amount (ie. Monetary value).\n",
    "\n",
    "\n"
   ]
  },
  {
   "cell_type": "code",
   "execution_count": 76,
   "metadata": {
    "ExecuteTime": {
     "end_time": "2020-08-24T18:24:30.759477Z",
     "start_time": "2020-08-24T18:24:30.725623Z"
    }
   },
   "outputs": [],
   "source": [
    "df_uk_clv = df_uk[['CustomerID','InvoiceDate','InvoiceNo', 'Quantity','UnitPrice']]"
   ]
  },
  {
   "cell_type": "code",
   "execution_count": 77,
   "metadata": {
    "ExecuteTime": {
     "end_time": "2020-08-24T18:24:33.279605Z",
     "start_time": "2020-08-24T18:24:31.880273Z"
    }
   },
   "outputs": [
    {
     "data": {
      "text/plain": [
       "Timestamp('2011-12-09 12:49:00')"
      ]
     },
     "execution_count": 77,
     "metadata": {},
     "output_type": "execute_result"
    }
   ],
   "source": [
    "max(df_uk_clv[\"InvoiceDate\"])"
   ]
  },
  {
   "cell_type": "code",
   "execution_count": 78,
   "metadata": {
    "ExecuteTime": {
     "end_time": "2020-08-24T18:24:34.518358Z",
     "start_time": "2020-08-24T18:24:34.480271Z"
    }
   },
   "outputs": [
    {
     "data": {
      "text/html": [
       "<div>\n",
       "<style scoped>\n",
       "    .dataframe tbody tr th:only-of-type {\n",
       "        vertical-align: middle;\n",
       "    }\n",
       "\n",
       "    .dataframe tbody tr th {\n",
       "        vertical-align: top;\n",
       "    }\n",
       "\n",
       "    .dataframe thead th {\n",
       "        text-align: right;\n",
       "    }\n",
       "</style>\n",
       "<table border=\"1\" class=\"dataframe\">\n",
       "  <thead>\n",
       "    <tr style=\"text-align: right;\">\n",
       "      <th></th>\n",
       "      <th>CustomerID</th>\n",
       "      <th>InvoiceDate</th>\n",
       "      <th>InvoiceNo</th>\n",
       "      <th>Quantity</th>\n",
       "      <th>UnitPrice</th>\n",
       "      <th>TotalPurchase</th>\n",
       "    </tr>\n",
       "  </thead>\n",
       "  <tbody>\n",
       "    <tr>\n",
       "      <th>0</th>\n",
       "      <td>17850.0</td>\n",
       "      <td>2010-12-01 08:26:00</td>\n",
       "      <td>536365</td>\n",
       "      <td>6</td>\n",
       "      <td>2.55</td>\n",
       "      <td>15.30</td>\n",
       "    </tr>\n",
       "    <tr>\n",
       "      <th>1</th>\n",
       "      <td>17850.0</td>\n",
       "      <td>2010-12-01 08:26:00</td>\n",
       "      <td>536365</td>\n",
       "      <td>6</td>\n",
       "      <td>3.39</td>\n",
       "      <td>20.34</td>\n",
       "    </tr>\n",
       "    <tr>\n",
       "      <th>2</th>\n",
       "      <td>17850.0</td>\n",
       "      <td>2010-12-01 08:26:00</td>\n",
       "      <td>536365</td>\n",
       "      <td>8</td>\n",
       "      <td>2.75</td>\n",
       "      <td>22.00</td>\n",
       "    </tr>\n",
       "    <tr>\n",
       "      <th>3</th>\n",
       "      <td>17850.0</td>\n",
       "      <td>2010-12-01 08:26:00</td>\n",
       "      <td>536365</td>\n",
       "      <td>6</td>\n",
       "      <td>3.39</td>\n",
       "      <td>20.34</td>\n",
       "    </tr>\n",
       "    <tr>\n",
       "      <th>4</th>\n",
       "      <td>17850.0</td>\n",
       "      <td>2010-12-01 08:26:00</td>\n",
       "      <td>536365</td>\n",
       "      <td>6</td>\n",
       "      <td>3.39</td>\n",
       "      <td>20.34</td>\n",
       "    </tr>\n",
       "    <tr>\n",
       "      <th>...</th>\n",
       "      <td>...</td>\n",
       "      <td>...</td>\n",
       "      <td>...</td>\n",
       "      <td>...</td>\n",
       "      <td>...</td>\n",
       "      <td>...</td>\n",
       "    </tr>\n",
       "    <tr>\n",
       "      <th>541889</th>\n",
       "      <td>15804.0</td>\n",
       "      <td>2011-12-09 12:31:00</td>\n",
       "      <td>581585</td>\n",
       "      <td>12</td>\n",
       "      <td>1.95</td>\n",
       "      <td>23.40</td>\n",
       "    </tr>\n",
       "    <tr>\n",
       "      <th>541890</th>\n",
       "      <td>13113.0</td>\n",
       "      <td>2011-12-09 12:49:00</td>\n",
       "      <td>581586</td>\n",
       "      <td>8</td>\n",
       "      <td>2.95</td>\n",
       "      <td>23.60</td>\n",
       "    </tr>\n",
       "    <tr>\n",
       "      <th>541891</th>\n",
       "      <td>13113.0</td>\n",
       "      <td>2011-12-09 12:49:00</td>\n",
       "      <td>581586</td>\n",
       "      <td>24</td>\n",
       "      <td>1.25</td>\n",
       "      <td>30.00</td>\n",
       "    </tr>\n",
       "    <tr>\n",
       "      <th>541892</th>\n",
       "      <td>13113.0</td>\n",
       "      <td>2011-12-09 12:49:00</td>\n",
       "      <td>581586</td>\n",
       "      <td>24</td>\n",
       "      <td>8.95</td>\n",
       "      <td>214.80</td>\n",
       "    </tr>\n",
       "    <tr>\n",
       "      <th>541893</th>\n",
       "      <td>13113.0</td>\n",
       "      <td>2011-12-09 12:49:00</td>\n",
       "      <td>581586</td>\n",
       "      <td>10</td>\n",
       "      <td>7.08</td>\n",
       "      <td>70.80</td>\n",
       "    </tr>\n",
       "  </tbody>\n",
       "</table>\n",
       "<p>485123 rows × 6 columns</p>\n",
       "</div>"
      ],
      "text/plain": [
       "        CustomerID         InvoiceDate InvoiceNo  Quantity  UnitPrice  \\\n",
       "0          17850.0 2010-12-01 08:26:00    536365         6       2.55   \n",
       "1          17850.0 2010-12-01 08:26:00    536365         6       3.39   \n",
       "2          17850.0 2010-12-01 08:26:00    536365         8       2.75   \n",
       "3          17850.0 2010-12-01 08:26:00    536365         6       3.39   \n",
       "4          17850.0 2010-12-01 08:26:00    536365         6       3.39   \n",
       "...            ...                 ...       ...       ...        ...   \n",
       "541889     15804.0 2011-12-09 12:31:00    581585        12       1.95   \n",
       "541890     13113.0 2011-12-09 12:49:00    581586         8       2.95   \n",
       "541891     13113.0 2011-12-09 12:49:00    581586        24       1.25   \n",
       "541892     13113.0 2011-12-09 12:49:00    581586        24       8.95   \n",
       "541893     13113.0 2011-12-09 12:49:00    581586        10       7.08   \n",
       "\n",
       "        TotalPurchase  \n",
       "0               15.30  \n",
       "1               20.34  \n",
       "2               22.00  \n",
       "3               20.34  \n",
       "4               20.34  \n",
       "...               ...  \n",
       "541889          23.40  \n",
       "541890          23.60  \n",
       "541891          30.00  \n",
       "541892         214.80  \n",
       "541893          70.80  \n",
       "\n",
       "[485123 rows x 6 columns]"
      ]
     },
     "execution_count": 78,
     "metadata": {},
     "output_type": "execute_result"
    }
   ],
   "source": [
    "# total purchase by customer\n",
    "\n",
    "df_uk_clv[\"TotalPurchase\"]= df_uk_clv[\"Quantity\"]* df_uk_clv[\"UnitPrice\"]\n",
    "\n",
    "df_uk_clv"
   ]
  },
  {
   "cell_type": "code",
   "execution_count": 81,
   "metadata": {
    "ExecuteTime": {
     "end_time": "2020-08-24T18:25:09.527361Z",
     "start_time": "2020-08-24T18:25:09.522206Z"
    }
   },
   "outputs": [],
   "source": [
    "#df_uk_clv[df_uk_clv[\"CustomerID\"]== 12747.0].head(30)"
   ]
  },
  {
   "cell_type": "markdown",
   "metadata": {
    "ExecuteTime": {
     "end_time": "2020-08-24T17:55:12.020972Z",
     "start_time": "2020-08-24T17:55:11.994551Z"
    }
   },
   "source": [
    "#### Calculate frequency, recency, monetary value"
   ]
  },
  {
   "cell_type": "code",
   "execution_count": 83,
   "metadata": {
    "ExecuteTime": {
     "end_time": "2020-08-24T18:27:14.590705Z",
     "start_time": "2020-08-24T18:27:10.950459Z"
    }
   },
   "outputs": [
    {
     "data": {
      "text/html": [
       "<div>\n",
       "<style scoped>\n",
       "    .dataframe tbody tr th:only-of-type {\n",
       "        vertical-align: middle;\n",
       "    }\n",
       "\n",
       "    .dataframe tbody tr th {\n",
       "        vertical-align: top;\n",
       "    }\n",
       "\n",
       "    .dataframe thead th {\n",
       "        text-align: right;\n",
       "    }\n",
       "</style>\n",
       "<table border=\"1\" class=\"dataframe\">\n",
       "  <thead>\n",
       "    <tr style=\"text-align: right;\">\n",
       "      <th></th>\n",
       "      <th>InvoiceDate</th>\n",
       "      <th>InvoiceNo</th>\n",
       "      <th>Quantity</th>\n",
       "      <th>TotalPurchase</th>\n",
       "    </tr>\n",
       "    <tr>\n",
       "      <th>CustomerID</th>\n",
       "      <th></th>\n",
       "      <th></th>\n",
       "      <th></th>\n",
       "      <th></th>\n",
       "    </tr>\n",
       "  </thead>\n",
       "  <tbody>\n",
       "    <tr>\n",
       "      <th>16738.0</th>\n",
       "      <td>0</td>\n",
       "      <td>1</td>\n",
       "      <td>3</td>\n",
       "      <td>3.75</td>\n",
       "    </tr>\n",
       "    <tr>\n",
       "      <th>14792.0</th>\n",
       "      <td>0</td>\n",
       "      <td>1</td>\n",
       "      <td>2</td>\n",
       "      <td>6.20</td>\n",
       "    </tr>\n",
       "    <tr>\n",
       "      <th>16454.0</th>\n",
       "      <td>19</td>\n",
       "      <td>2</td>\n",
       "      <td>3</td>\n",
       "      <td>6.90</td>\n",
       "    </tr>\n",
       "    <tr>\n",
       "      <th>17956.0</th>\n",
       "      <td>0</td>\n",
       "      <td>1</td>\n",
       "      <td>1</td>\n",
       "      <td>12.75</td>\n",
       "    </tr>\n",
       "    <tr>\n",
       "      <th>16878.0</th>\n",
       "      <td>0</td>\n",
       "      <td>1</td>\n",
       "      <td>12</td>\n",
       "      <td>13.30</td>\n",
       "    </tr>\n",
       "    <tr>\n",
       "      <th>...</th>\n",
       "      <td>...</td>\n",
       "      <td>...</td>\n",
       "      <td>...</td>\n",
       "      <td>...</td>\n",
       "    </tr>\n",
       "    <tr>\n",
       "      <th>16029.0</th>\n",
       "      <td>335</td>\n",
       "      <td>63</td>\n",
       "      <td>40208</td>\n",
       "      <td>81024.84</td>\n",
       "    </tr>\n",
       "    <tr>\n",
       "      <th>17511.0</th>\n",
       "      <td>370</td>\n",
       "      <td>31</td>\n",
       "      <td>64549</td>\n",
       "      <td>91062.38</td>\n",
       "    </tr>\n",
       "    <tr>\n",
       "      <th>16446.0</th>\n",
       "      <td>204</td>\n",
       "      <td>2</td>\n",
       "      <td>80997</td>\n",
       "      <td>168472.50</td>\n",
       "    </tr>\n",
       "    <tr>\n",
       "      <th>17450.0</th>\n",
       "      <td>359</td>\n",
       "      <td>46</td>\n",
       "      <td>69993</td>\n",
       "      <td>194550.79</td>\n",
       "    </tr>\n",
       "    <tr>\n",
       "      <th>18102.0</th>\n",
       "      <td>366</td>\n",
       "      <td>60</td>\n",
       "      <td>64124</td>\n",
       "      <td>259657.30</td>\n",
       "    </tr>\n",
       "  </tbody>\n",
       "</table>\n",
       "<p>3920 rows × 4 columns</p>\n",
       "</div>"
      ],
      "text/plain": [
       "            InvoiceDate  InvoiceNo  Quantity  TotalPurchase\n",
       "CustomerID                                                 \n",
       "16738.0               0          1         3           3.75\n",
       "14792.0               0          1         2           6.20\n",
       "16454.0              19          2         3           6.90\n",
       "17956.0               0          1         1          12.75\n",
       "16878.0               0          1        12          13.30\n",
       "...                 ...        ...       ...            ...\n",
       "16029.0             335         63     40208       81024.84\n",
       "17511.0             370         31     64549       91062.38\n",
       "16446.0             204          2     80997      168472.50\n",
       "17450.0             359         46     69993      194550.79\n",
       "18102.0             366         60     64124      259657.30\n",
       "\n",
       "[3920 rows x 4 columns]"
      ]
     },
     "execution_count": 83,
     "metadata": {},
     "output_type": "execute_result"
    }
   ],
   "source": [
    "df_group= df_uk_clv.groupby(\"CustomerID\").agg({\"InvoiceDate\": lambda date: (date.max() - date.min()).days, \n",
    "                                    \"InvoiceNo\": lambda num: num.nunique(), #same invoice number is considered a unique transaction\n",
    "                                    \"Quantity\": lambda quant: quant.sum(),\n",
    "                                    \"TotalPurchase\": lambda total: total.sum()})\n",
    "\n",
    "df_group.sort_values([\"TotalPurchase\"], ascending= True)"
   ]
  },
  {
   "cell_type": "code",
   "execution_count": 84,
   "metadata": {
    "ExecuteTime": {
     "end_time": "2020-08-24T18:27:15.739198Z",
     "start_time": "2020-08-24T18:27:15.727891Z"
    }
   },
   "outputs": [],
   "source": [
    "#Change number of columns \n",
    "\n",
    "df_group.columns=['num_days','num_transactions','num_units_purchased','money_spent']\n"
   ]
  },
  {
   "cell_type": "markdown",
   "metadata": {},
   "source": [
    "#### Formula CLV"
   ]
  },
  {
   "cell_type": "markdown",
   "metadata": {},
   "source": [
    "- CLTV = ((Average Order Value x Purchase Frequency)/Churn Rate) x Profit margin.\n",
    "\n",
    "- Customer Value = Average Order Value * Purchase Frequency"
   ]
  },
  {
   "cell_type": "markdown",
   "metadata": {
    "ExecuteTime": {
     "end_time": "2020-08-24T18:32:00.937611Z",
     "start_time": "2020-08-24T18:32:00.892031Z"
    }
   },
   "source": [
    "##### Calculate average order value"
   ]
  },
  {
   "cell_type": "code",
   "execution_count": 86,
   "metadata": {
    "ExecuteTime": {
     "end_time": "2020-08-24T18:36:47.828198Z",
     "start_time": "2020-08-24T18:36:47.774832Z"
    }
   },
   "outputs": [],
   "source": [
    "df_group[\"avg_order_value\"]= df_group[\"money_spent\"]/df_group[\"num_transactions\"]"
   ]
  },
  {
   "cell_type": "markdown",
   "metadata": {
    "ExecuteTime": {
     "end_time": "2020-08-24T18:39:35.081648Z",
     "start_time": "2020-08-24T18:39:35.078271Z"
    }
   },
   "source": [
    "##### Calculate purchase frequency (individual or assume group average)"
   ]
  },
  {
   "cell_type": "code",
   "execution_count": 90,
   "metadata": {
    "ExecuteTime": {
     "end_time": "2020-08-24T18:48:32.305364Z",
     "start_time": "2020-08-24T18:48:32.220111Z"
    }
   },
   "outputs": [],
   "source": [
    "#individual\n",
    "#df_group[\"frequency\"]= df_group[\"num_transactions\"]/df_group[\"num.days\"]\n",
    "\n",
    "#Group frequency\n",
    "purchase_frequency = sum(df_group[\"num_transactions\"])/df_group.shape[0]\n"
   ]
  },
  {
   "cell_type": "markdown",
   "metadata": {},
   "source": [
    "##### Calculate Repeat Rate and then Churn Rate"
   ]
  },
  {
   "cell_type": "code",
   "execution_count": 91,
   "metadata": {
    "ExecuteTime": {
     "end_time": "2020-08-24T18:49:51.129699Z",
     "start_time": "2020-08-24T18:49:51.111747Z"
    }
   },
   "outputs": [],
   "source": [
    "repeat_rate=df_group[df_group.num_transactions > 1].shape[0]/df_group.shape[0]"
   ]
  },
  {
   "cell_type": "code",
   "execution_count": 92,
   "metadata": {
    "ExecuteTime": {
     "end_time": "2020-08-24T18:50:01.038416Z",
     "start_time": "2020-08-24T18:50:01.024196Z"
    }
   },
   "outputs": [],
   "source": [
    "churn_rate=1-repeat_rate"
   ]
  },
  {
   "cell_type": "markdown",
   "metadata": {
    "ExecuteTime": {
     "end_time": "2020-08-24T18:59:05.405534Z",
     "start_time": "2020-08-24T18:59:05.388887Z"
    }
   },
   "source": [
    "##### Calculate profit margin"
   ]
  },
  {
   "cell_type": "markdown",
   "metadata": {},
   "source": [
    "Assumming a profit margin of 8% (assumption depends on the business)"
   ]
  },
  {
   "cell_type": "code",
   "execution_count": 95,
   "metadata": {
    "ExecuteTime": {
     "end_time": "2020-08-24T19:01:11.202611Z",
     "start_time": "2020-08-24T19:01:11.118499Z"
    }
   },
   "outputs": [],
   "source": [
    "df_group['profit_margin']= 0.08 * df_group['money_spent']\n"
   ]
  },
  {
   "cell_type": "markdown",
   "metadata": {
    "ExecuteTime": {
     "end_time": "2020-08-24T19:01:28.256578Z",
     "start_time": "2020-08-24T19:01:28.252918Z"
    }
   },
   "source": [
    "##### Finally, calculate CLV"
   ]
  },
  {
   "cell_type": "code",
   "execution_count": 97,
   "metadata": {
    "ExecuteTime": {
     "end_time": "2020-08-24T19:05:58.014765Z",
     "start_time": "2020-08-24T19:05:57.938544Z"
    }
   },
   "outputs": [],
   "source": [
    "df_group['CLV']=(df_group['avg_order_value']*purchase_frequency)/churn_rate\n"
   ]
  },
  {
   "cell_type": "code",
   "execution_count": 98,
   "metadata": {
    "ExecuteTime": {
     "end_time": "2020-08-25T00:53:57.697919Z",
     "start_time": "2020-08-25T00:53:57.533644Z"
    }
   },
   "outputs": [],
   "source": [
    "# CLV * profit margin\n",
    "\n",
    "df_group['CLV_profit']=df_group['CLV']*df_group['profit_margin']\n"
   ]
  },
  {
   "cell_type": "code",
   "execution_count": 99,
   "metadata": {
    "ExecuteTime": {
     "end_time": "2020-08-25T00:54:03.443618Z",
     "start_time": "2020-08-25T00:54:03.379597Z"
    }
   },
   "outputs": [
    {
     "data": {
      "text/html": [
       "<div>\n",
       "<style scoped>\n",
       "    .dataframe tbody tr th:only-of-type {\n",
       "        vertical-align: middle;\n",
       "    }\n",
       "\n",
       "    .dataframe tbody tr th {\n",
       "        vertical-align: top;\n",
       "    }\n",
       "\n",
       "    .dataframe thead th {\n",
       "        text-align: right;\n",
       "    }\n",
       "</style>\n",
       "<table border=\"1\" class=\"dataframe\">\n",
       "  <thead>\n",
       "    <tr style=\"text-align: right;\">\n",
       "      <th></th>\n",
       "      <th>num_days</th>\n",
       "      <th>num_transactions</th>\n",
       "      <th>num_units_purchased</th>\n",
       "      <th>money_spent</th>\n",
       "      <th>avg_order_value</th>\n",
       "      <th>profit_margin</th>\n",
       "      <th>CLV</th>\n",
       "      <th>CLV_profit</th>\n",
       "    </tr>\n",
       "    <tr>\n",
       "      <th>CustomerID</th>\n",
       "      <th></th>\n",
       "      <th></th>\n",
       "      <th></th>\n",
       "      <th></th>\n",
       "      <th></th>\n",
       "      <th></th>\n",
       "      <th></th>\n",
       "      <th></th>\n",
       "    </tr>\n",
       "  </thead>\n",
       "  <tbody>\n",
       "    <tr>\n",
       "      <th>12346.0</th>\n",
       "      <td>0</td>\n",
       "      <td>1</td>\n",
       "      <td>74215</td>\n",
       "      <td>77183.60</td>\n",
       "      <td>77183.600000</td>\n",
       "      <td>6174.6880</td>\n",
       "      <td>951702.374519</td>\n",
       "      <td>5.876465e+09</td>\n",
       "    </tr>\n",
       "    <tr>\n",
       "      <th>12747.0</th>\n",
       "      <td>366</td>\n",
       "      <td>11</td>\n",
       "      <td>1275</td>\n",
       "      <td>4196.01</td>\n",
       "      <td>381.455455</td>\n",
       "      <td>335.6808</td>\n",
       "      <td>4703.487034</td>\n",
       "      <td>1.578870e+06</td>\n",
       "    </tr>\n",
       "    <tr>\n",
       "      <th>12748.0</th>\n",
       "      <td>372</td>\n",
       "      <td>209</td>\n",
       "      <td>25747</td>\n",
       "      <td>33719.73</td>\n",
       "      <td>161.338421</td>\n",
       "      <td>2697.5784</td>\n",
       "      <td>1989.362487</td>\n",
       "      <td>5.366461e+06</td>\n",
       "    </tr>\n",
       "    <tr>\n",
       "      <th>12749.0</th>\n",
       "      <td>209</td>\n",
       "      <td>5</td>\n",
       "      <td>1471</td>\n",
       "      <td>4090.88</td>\n",
       "      <td>818.176000</td>\n",
       "      <td>327.2704</td>\n",
       "      <td>10088.413108</td>\n",
       "      <td>3.301639e+06</td>\n",
       "    </tr>\n",
       "    <tr>\n",
       "      <th>12820.0</th>\n",
       "      <td>323</td>\n",
       "      <td>4</td>\n",
       "      <td>722</td>\n",
       "      <td>942.34</td>\n",
       "      <td>235.585000</td>\n",
       "      <td>75.3872</td>\n",
       "      <td>2904.850304</td>\n",
       "      <td>2.189885e+05</td>\n",
       "    </tr>\n",
       "  </tbody>\n",
       "</table>\n",
       "</div>"
      ],
      "text/plain": [
       "            num_days  num_transactions  num_units_purchased  money_spent  \\\n",
       "CustomerID                                                                 \n",
       "12346.0            0                 1                74215     77183.60   \n",
       "12747.0          366                11                 1275      4196.01   \n",
       "12748.0          372               209                25747     33719.73   \n",
       "12749.0          209                 5                 1471      4090.88   \n",
       "12820.0          323                 4                  722       942.34   \n",
       "\n",
       "            avg_order_value  profit_margin            CLV    CLV_profit  \n",
       "CustomerID                                                               \n",
       "12346.0        77183.600000      6174.6880  951702.374519  5.876465e+09  \n",
       "12747.0          381.455455       335.6808    4703.487034  1.578870e+06  \n",
       "12748.0          161.338421      2697.5784    1989.362487  5.366461e+06  \n",
       "12749.0          818.176000       327.2704   10088.413108  3.301639e+06  \n",
       "12820.0          235.585000        75.3872    2904.850304  2.189885e+05  "
      ]
     },
     "execution_count": 99,
     "metadata": {},
     "output_type": "execute_result"
    }
   ],
   "source": [
    "df_group.head()"
   ]
  },
  {
   "cell_type": "markdown",
   "metadata": {},
   "source": [
    "##### Calculate total purchase amount (all customers) -- Quantity * price"
   ]
  },
  {
   "cell_type": "code",
   "execution_count": 52,
   "metadata": {
    "ExecuteTime": {
     "end_time": "2020-08-24T17:47:37.822316Z",
     "start_time": "2020-08-24T17:47:37.806181Z"
    }
   },
   "outputs": [
    {
     "name": "stdout",
     "output_type": "stream",
     "text": [
      "Total purchase amount: 8187806.36\n"
     ]
    }
   ],
   "source": [
    "total_purchase = df_uk_clv[\"Quantity\"]* df_uk_clv[\"UnitPrice\"]\n",
    "\n",
    "print(f\"Total purchase amount: {round(total_purchase.sum(),2)}\")"
   ]
  },
  {
   "cell_type": "markdown",
   "metadata": {},
   "source": [
    "### Prediction Model for CLTV"
   ]
  },
  {
   "cell_type": "markdown",
   "metadata": {},
   "source": [
    "#### Set df - train and test set"
   ]
  },
  {
   "cell_type": "markdown",
   "metadata": {},
   "source": [
    "Model_ Multiple linear regression"
   ]
  },
  {
   "cell_type": "code",
   "execution_count": 104,
   "metadata": {
    "ExecuteTime": {
     "end_time": "2020-08-25T01:01:47.442577Z",
     "start_time": "2020-08-25T01:01:39.548840Z"
    }
   },
   "outputs": [],
   "source": [
    "#Adding month and year - time \n",
    "df_uk_clv[\"month_year\"] = df_uk_clv[\"InvoiceDate\"].apply(lambda x: x.strftime(\"%m-%Y\"))\n",
    "\n"
   ]
  },
  {
   "cell_type": "code",
   "execution_count": 105,
   "metadata": {
    "ExecuteTime": {
     "end_time": "2020-08-25T01:01:51.074874Z",
     "start_time": "2020-08-25T01:01:51.049452Z"
    }
   },
   "outputs": [
    {
     "data": {
      "text/html": [
       "<div>\n",
       "<style scoped>\n",
       "    .dataframe tbody tr th:only-of-type {\n",
       "        vertical-align: middle;\n",
       "    }\n",
       "\n",
       "    .dataframe tbody tr th {\n",
       "        vertical-align: top;\n",
       "    }\n",
       "\n",
       "    .dataframe thead th {\n",
       "        text-align: right;\n",
       "    }\n",
       "</style>\n",
       "<table border=\"1\" class=\"dataframe\">\n",
       "  <thead>\n",
       "    <tr style=\"text-align: right;\">\n",
       "      <th></th>\n",
       "      <th>CustomerID</th>\n",
       "      <th>InvoiceDate</th>\n",
       "      <th>InvoiceNo</th>\n",
       "      <th>Quantity</th>\n",
       "      <th>UnitPrice</th>\n",
       "      <th>TotalPurchase</th>\n",
       "      <th>month_year</th>\n",
       "    </tr>\n",
       "  </thead>\n",
       "  <tbody>\n",
       "    <tr>\n",
       "      <th>0</th>\n",
       "      <td>17850.0</td>\n",
       "      <td>2010-12-01 08:26:00</td>\n",
       "      <td>536365</td>\n",
       "      <td>6</td>\n",
       "      <td>2.55</td>\n",
       "      <td>15.30</td>\n",
       "      <td>12-2010</td>\n",
       "    </tr>\n",
       "    <tr>\n",
       "      <th>1</th>\n",
       "      <td>17850.0</td>\n",
       "      <td>2010-12-01 08:26:00</td>\n",
       "      <td>536365</td>\n",
       "      <td>6</td>\n",
       "      <td>3.39</td>\n",
       "      <td>20.34</td>\n",
       "      <td>12-2010</td>\n",
       "    </tr>\n",
       "    <tr>\n",
       "      <th>2</th>\n",
       "      <td>17850.0</td>\n",
       "      <td>2010-12-01 08:26:00</td>\n",
       "      <td>536365</td>\n",
       "      <td>8</td>\n",
       "      <td>2.75</td>\n",
       "      <td>22.00</td>\n",
       "      <td>12-2010</td>\n",
       "    </tr>\n",
       "    <tr>\n",
       "      <th>3</th>\n",
       "      <td>17850.0</td>\n",
       "      <td>2010-12-01 08:26:00</td>\n",
       "      <td>536365</td>\n",
       "      <td>6</td>\n",
       "      <td>3.39</td>\n",
       "      <td>20.34</td>\n",
       "      <td>12-2010</td>\n",
       "    </tr>\n",
       "    <tr>\n",
       "      <th>4</th>\n",
       "      <td>17850.0</td>\n",
       "      <td>2010-12-01 08:26:00</td>\n",
       "      <td>536365</td>\n",
       "      <td>6</td>\n",
       "      <td>3.39</td>\n",
       "      <td>20.34</td>\n",
       "      <td>12-2010</td>\n",
       "    </tr>\n",
       "  </tbody>\n",
       "</table>\n",
       "</div>"
      ],
      "text/plain": [
       "   CustomerID         InvoiceDate InvoiceNo  Quantity  UnitPrice  \\\n",
       "0     17850.0 2010-12-01 08:26:00    536365         6       2.55   \n",
       "1     17850.0 2010-12-01 08:26:00    536365         6       3.39   \n",
       "2     17850.0 2010-12-01 08:26:00    536365         8       2.75   \n",
       "3     17850.0 2010-12-01 08:26:00    536365         6       3.39   \n",
       "4     17850.0 2010-12-01 08:26:00    536365         6       3.39   \n",
       "\n",
       "   TotalPurchase month_year  \n",
       "0          15.30    12-2010  \n",
       "1          20.34    12-2010  \n",
       "2          22.00    12-2010  \n",
       "3          20.34    12-2010  \n",
       "4          20.34    12-2010  "
      ]
     },
     "execution_count": 105,
     "metadata": {},
     "output_type": "execute_result"
    }
   ],
   "source": [
    "df_uk_clv.head()"
   ]
  },
  {
   "cell_type": "code",
   "execution_count": 183,
   "metadata": {
    "ExecuteTime": {
     "end_time": "2020-08-25T03:36:26.940566Z",
     "start_time": "2020-08-25T03:36:26.107815Z"
    }
   },
   "outputs": [
    {
     "data": {
      "text/html": [
       "<div>\n",
       "<style scoped>\n",
       "    .dataframe tbody tr th:only-of-type {\n",
       "        vertical-align: middle;\n",
       "    }\n",
       "\n",
       "    .dataframe tbody tr th {\n",
       "        vertical-align: top;\n",
       "    }\n",
       "\n",
       "    .dataframe thead th {\n",
       "        text-align: right;\n",
       "    }\n",
       "</style>\n",
       "<table border=\"1\" class=\"dataframe\">\n",
       "  <thead>\n",
       "    <tr style=\"text-align: right;\">\n",
       "      <th>month_year</th>\n",
       "      <th>CustomerID</th>\n",
       "      <th>01-2011</th>\n",
       "      <th>02-2011</th>\n",
       "      <th>03-2011</th>\n",
       "      <th>04-2011</th>\n",
       "      <th>05-2011</th>\n",
       "      <th>06-2011</th>\n",
       "      <th>07-2011</th>\n",
       "      <th>08-2011</th>\n",
       "      <th>09-2011</th>\n",
       "      <th>10-2011</th>\n",
       "      <th>11-2011</th>\n",
       "      <th>12-2010</th>\n",
       "      <th>12-2011</th>\n",
       "    </tr>\n",
       "  </thead>\n",
       "  <tbody>\n",
       "    <tr>\n",
       "      <th>0</th>\n",
       "      <td>12346.0</td>\n",
       "      <td>77183.60</td>\n",
       "      <td>0.00</td>\n",
       "      <td>0.00</td>\n",
       "      <td>0.00</td>\n",
       "      <td>0.00</td>\n",
       "      <td>0.00</td>\n",
       "      <td>0.00</td>\n",
       "      <td>0.00</td>\n",
       "      <td>0.00</td>\n",
       "      <td>0.00</td>\n",
       "      <td>0.00</td>\n",
       "      <td>0.00</td>\n",
       "      <td>0.00</td>\n",
       "    </tr>\n",
       "    <tr>\n",
       "      <th>1</th>\n",
       "      <td>12747.0</td>\n",
       "      <td>303.04</td>\n",
       "      <td>0.00</td>\n",
       "      <td>310.78</td>\n",
       "      <td>0.00</td>\n",
       "      <td>771.31</td>\n",
       "      <td>376.30</td>\n",
       "      <td>0.00</td>\n",
       "      <td>301.70</td>\n",
       "      <td>0.00</td>\n",
       "      <td>675.38</td>\n",
       "      <td>312.73</td>\n",
       "      <td>706.27</td>\n",
       "      <td>438.50</td>\n",
       "    </tr>\n",
       "    <tr>\n",
       "      <th>2</th>\n",
       "      <td>12748.0</td>\n",
       "      <td>418.77</td>\n",
       "      <td>389.64</td>\n",
       "      <td>1179.37</td>\n",
       "      <td>1100.37</td>\n",
       "      <td>2234.50</td>\n",
       "      <td>2006.26</td>\n",
       "      <td>1113.27</td>\n",
       "      <td>898.24</td>\n",
       "      <td>6148.84</td>\n",
       "      <td>2292.84</td>\n",
       "      <td>10639.23</td>\n",
       "      <td>4228.13</td>\n",
       "      <td>1070.27</td>\n",
       "    </tr>\n",
       "    <tr>\n",
       "      <th>3</th>\n",
       "      <td>12749.0</td>\n",
       "      <td>0.00</td>\n",
       "      <td>0.00</td>\n",
       "      <td>0.00</td>\n",
       "      <td>0.00</td>\n",
       "      <td>859.10</td>\n",
       "      <td>0.00</td>\n",
       "      <td>0.00</td>\n",
       "      <td>1896.13</td>\n",
       "      <td>0.00</td>\n",
       "      <td>0.00</td>\n",
       "      <td>572.59</td>\n",
       "      <td>0.00</td>\n",
       "      <td>763.06</td>\n",
       "    </tr>\n",
       "    <tr>\n",
       "      <th>4</th>\n",
       "      <td>12820.0</td>\n",
       "      <td>170.46</td>\n",
       "      <td>0.00</td>\n",
       "      <td>0.00</td>\n",
       "      <td>0.00</td>\n",
       "      <td>0.00</td>\n",
       "      <td>0.00</td>\n",
       "      <td>0.00</td>\n",
       "      <td>0.00</td>\n",
       "      <td>217.77</td>\n",
       "      <td>343.76</td>\n",
       "      <td>0.00</td>\n",
       "      <td>0.00</td>\n",
       "      <td>210.35</td>\n",
       "    </tr>\n",
       "    <tr>\n",
       "      <th>...</th>\n",
       "      <td>...</td>\n",
       "      <td>...</td>\n",
       "      <td>...</td>\n",
       "      <td>...</td>\n",
       "      <td>...</td>\n",
       "      <td>...</td>\n",
       "      <td>...</td>\n",
       "      <td>...</td>\n",
       "      <td>...</td>\n",
       "      <td>...</td>\n",
       "      <td>...</td>\n",
       "      <td>...</td>\n",
       "      <td>...</td>\n",
       "      <td>...</td>\n",
       "    </tr>\n",
       "    <tr>\n",
       "      <th>810</th>\n",
       "      <td>13971.0</td>\n",
       "      <td>0.00</td>\n",
       "      <td>333.48</td>\n",
       "      <td>309.34</td>\n",
       "      <td>0.00</td>\n",
       "      <td>331.70</td>\n",
       "      <td>306.46</td>\n",
       "      <td>0.00</td>\n",
       "      <td>704.92</td>\n",
       "      <td>0.00</td>\n",
       "      <td>371.66</td>\n",
       "      <td>400.70</td>\n",
       "      <td>0.00</td>\n",
       "      <td>0.00</td>\n",
       "    </tr>\n",
       "    <tr>\n",
       "      <th>811</th>\n",
       "      <td>13972.0</td>\n",
       "      <td>0.00</td>\n",
       "      <td>0.00</td>\n",
       "      <td>0.00</td>\n",
       "      <td>0.00</td>\n",
       "      <td>145.90</td>\n",
       "      <td>0.00</td>\n",
       "      <td>0.00</td>\n",
       "      <td>0.00</td>\n",
       "      <td>44.35</td>\n",
       "      <td>0.00</td>\n",
       "      <td>0.00</td>\n",
       "      <td>0.00</td>\n",
       "      <td>0.00</td>\n",
       "    </tr>\n",
       "    <tr>\n",
       "      <th>812</th>\n",
       "      <td>13973.0</td>\n",
       "      <td>0.00</td>\n",
       "      <td>264.70</td>\n",
       "      <td>0.00</td>\n",
       "      <td>0.00</td>\n",
       "      <td>0.00</td>\n",
       "      <td>0.00</td>\n",
       "      <td>0.00</td>\n",
       "      <td>0.00</td>\n",
       "      <td>0.00</td>\n",
       "      <td>0.00</td>\n",
       "      <td>0.00</td>\n",
       "      <td>0.00</td>\n",
       "      <td>0.00</td>\n",
       "    </tr>\n",
       "    <tr>\n",
       "      <th>813</th>\n",
       "      <td>13974.0</td>\n",
       "      <td>0.00</td>\n",
       "      <td>0.00</td>\n",
       "      <td>0.00</td>\n",
       "      <td>0.00</td>\n",
       "      <td>0.00</td>\n",
       "      <td>0.00</td>\n",
       "      <td>0.00</td>\n",
       "      <td>0.00</td>\n",
       "      <td>0.00</td>\n",
       "      <td>413.59</td>\n",
       "      <td>0.00</td>\n",
       "      <td>0.00</td>\n",
       "      <td>0.00</td>\n",
       "    </tr>\n",
       "    <tr>\n",
       "      <th>814</th>\n",
       "      <td>13975.0</td>\n",
       "      <td>0.00</td>\n",
       "      <td>0.00</td>\n",
       "      <td>678.76</td>\n",
       "      <td>0.00</td>\n",
       "      <td>282.85</td>\n",
       "      <td>0.00</td>\n",
       "      <td>151.76</td>\n",
       "      <td>384.34</td>\n",
       "      <td>0.00</td>\n",
       "      <td>0.00</td>\n",
       "      <td>1028.57</td>\n",
       "      <td>0.00</td>\n",
       "      <td>0.00</td>\n",
       "    </tr>\n",
       "  </tbody>\n",
       "</table>\n",
       "<p>815 rows × 14 columns</p>\n",
       "</div>"
      ],
      "text/plain": [
       "month_year  CustomerID   01-2011  02-2011  03-2011  04-2011  05-2011  06-2011  \\\n",
       "0              12346.0  77183.60     0.00     0.00     0.00     0.00     0.00   \n",
       "1              12747.0    303.04     0.00   310.78     0.00   771.31   376.30   \n",
       "2              12748.0    418.77   389.64  1179.37  1100.37  2234.50  2006.26   \n",
       "3              12749.0      0.00     0.00     0.00     0.00   859.10     0.00   \n",
       "4              12820.0    170.46     0.00     0.00     0.00     0.00     0.00   \n",
       "..                 ...       ...      ...      ...      ...      ...      ...   \n",
       "810            13971.0      0.00   333.48   309.34     0.00   331.70   306.46   \n",
       "811            13972.0      0.00     0.00     0.00     0.00   145.90     0.00   \n",
       "812            13973.0      0.00   264.70     0.00     0.00     0.00     0.00   \n",
       "813            13974.0      0.00     0.00     0.00     0.00     0.00     0.00   \n",
       "814            13975.0      0.00     0.00   678.76     0.00   282.85     0.00   \n",
       "\n",
       "month_year  07-2011  08-2011  09-2011  10-2011   11-2011  12-2010  12-2011  \n",
       "0              0.00     0.00     0.00     0.00      0.00     0.00     0.00  \n",
       "1              0.00   301.70     0.00   675.38    312.73   706.27   438.50  \n",
       "2           1113.27   898.24  6148.84  2292.84  10639.23  4228.13  1070.27  \n",
       "3              0.00  1896.13     0.00     0.00    572.59     0.00   763.06  \n",
       "4              0.00     0.00   217.77   343.76      0.00     0.00   210.35  \n",
       "..              ...      ...      ...      ...       ...      ...      ...  \n",
       "810            0.00   704.92     0.00   371.66    400.70     0.00     0.00  \n",
       "811            0.00     0.00    44.35     0.00      0.00     0.00     0.00  \n",
       "812            0.00     0.00     0.00     0.00      0.00     0.00     0.00  \n",
       "813            0.00     0.00     0.00   413.59      0.00     0.00     0.00  \n",
       "814          151.76   384.34     0.00     0.00   1028.57     0.00     0.00  \n",
       "\n",
       "[815 rows x 14 columns]"
      ]
     },
     "execution_count": 183,
     "metadata": {},
     "output_type": "execute_result"
    }
   ],
   "source": [
    "# Pivot table\n",
    "\n",
    "df_pivot=df_uk_clv.pivot_table(index=['CustomerID'],columns=['month_year'],values='TotalPurchase',aggfunc='sum',fill_value=0).reset_index()\n",
    "\n"
   ]
  },
  {
   "cell_type": "code",
   "execution_count": 113,
   "metadata": {
    "ExecuteTime": {
     "end_time": "2020-08-25T01:06:39.923597Z",
     "start_time": "2020-08-25T01:06:39.914789Z"
    }
   },
   "outputs": [],
   "source": [
    "#Sum month sales\n",
    "df_pivot['CLV']=df_pivot.iloc[:,1:].sum(axis=1) #axis = 1 --by row\n"
   ]
  },
  {
   "cell_type": "code",
   "execution_count": 116,
   "metadata": {
    "ExecuteTime": {
     "end_time": "2020-08-25T01:10:45.250829Z",
     "start_time": "2020-08-25T01:10:45.200234Z"
    }
   },
   "outputs": [],
   "source": [
    "#Define independent variables (x - features) and dependent variable (y - target)\n",
    "X=df_pivot[['12-2011','11-2011', '10-2011','09-2011','08-2011','07-2011']]\n",
    "y=df_pivot[['CLV']]"
   ]
  },
  {
   "cell_type": "code",
   "execution_count": 129,
   "metadata": {
    "ExecuteTime": {
     "end_time": "2020-08-25T01:31:47.234788Z",
     "start_time": "2020-08-25T01:31:45.052833Z"
    }
   },
   "outputs": [
    {
     "data": {
      "text/plain": [
       "<seaborn.axisgrid.PairGrid at 0x1a42df3940>"
      ]
     },
     "execution_count": 129,
     "metadata": {},
     "output_type": "execute_result"
    },
    {
     "data": {
      "image/png": "[encoded data removed]",
      "text/plain": [
       "<Figure size 2419.2x576 with 6 Axes>"
      ]
     },
     "metadata": {
      "needs_background": "light"
     },
     "output_type": "display_data"
    }
   ],
   "source": [
    "# visualize the relationship between the features and the response using scatterplots\n",
    "sns.pairplot(df_pivot, x_vars=['12-2011','11-2011', '10-2011','09-2011','08-2011','07-2011'], y_vars='CLV', size=8, aspect=0.7)\n",
    "\n",
    "\n"
   ]
  },
  {
   "cell_type": "code",
   "execution_count": 123,
   "metadata": {
    "ExecuteTime": {
     "end_time": "2020-08-25T01:16:06.330577Z",
     "start_time": "2020-08-25T01:16:06.298030Z"
    }
   },
   "outputs": [],
   "source": [
    "# Split the data into training and testing sets: 70% training, 30% testing.\n",
    "X_train, X_test, y_train, y_test = train_test_split(X,\n",
    "                                                    y,\n",
    "                                                    test_size=0.3,\n",
    "                                                    random_state=123)"
   ]
  },
  {
   "cell_type": "markdown",
   "metadata": {},
   "source": [
    "#### Model development"
   ]
  },
  {
   "cell_type": "code",
   "execution_count": 125,
   "metadata": {
    "ExecuteTime": {
     "end_time": "2020-08-25T01:20:02.496904Z",
     "start_time": "2020-08-25T01:20:01.987132Z"
    }
   },
   "outputs": [],
   "source": [
    "# Set model\n",
    "linear_reg = LinearRegression()\n",
    "\n",
    "# Fit the model to the training data\n",
    "linear_reg.fit(X_train, y_train)\n",
    "\n",
    "# Make predictions on the testing set\n",
    "y_pred = linear_reg.predict(X_test)"
   ]
  },
  {
   "cell_type": "markdown",
   "metadata": {},
   "source": [
    "#### Results"
   ]
  },
  {
   "cell_type": "code",
   "execution_count": 126,
   "metadata": {
    "ExecuteTime": {
     "end_time": "2020-08-25T01:21:16.221341Z",
     "start_time": "2020-08-25T01:21:16.190395Z"
    }
   },
   "outputs": [
    {
     "name": "stdout",
     "output_type": "stream",
     "text": [
      "[139.5025494]\n",
      "[[2.00553772 2.62629881 3.60048211 4.41424647 2.7739204  5.47597658]]\n"
     ]
    }
   ],
   "source": [
    "print(linear_reg.intercept_)\n",
    "print(linear_reg.coef_) #Note coefficients represent associations, no causations."
   ]
  },
  {
   "cell_type": "code",
   "execution_count": 130,
   "metadata": {
    "ExecuteTime": {
     "end_time": "2020-08-25T01:42:59.666728Z",
     "start_time": "2020-08-25T01:42:54.750143Z"
    }
   },
   "outputs": [
    {
     "data": {
      "text/plain": [
       "<seaborn.axisgrid.PairGrid at 0x1a46d055f8>"
      ]
     },
     "execution_count": 130,
     "metadata": {},
     "output_type": "execute_result"
    },
    {
     "data": {
      "image/png": "[encoded data removed]",
      "text/plain": [
       "<Figure size 2419.2x576 with 6 Axes>"
      ]
     },
     "metadata": {
      "needs_background": "light"
     },
     "output_type": "display_data"
    }
   ],
   "source": [
    "#Plotting the Least Squares Line\n",
    "sns.pairplot(df_pivot, x_vars=['12-2011','11-2011', '10-2011','09-2011','08-2011','07-2011'], y_vars='CLV', size=8, aspect=0.7, kind='reg')\n"
   ]
  },
  {
   "cell_type": "code",
   "execution_count": 132,
   "metadata": {
    "ExecuteTime": {
     "end_time": "2020-08-25T01:47:14.544596Z",
     "start_time": "2020-08-25T01:47:14.535589Z"
    }
   },
   "outputs": [
    {
     "data": {
      "text/plain": [
       "<bound method BaseEstimator.get_params of LinearRegression(copy_X=True, fit_intercept=True, n_jobs=None, normalize=False)>"
      ]
     },
     "execution_count": 132,
     "metadata": {},
     "output_type": "execute_result"
    }
   ],
   "source": [
    "# print the confidence intervals for the model coefficients\n",
    "#linear_reg."
   ]
  },
  {
   "cell_type": "markdown",
   "metadata": {},
   "source": [
    "#### Model assessment"
   ]
  },
  {
   "cell_type": "code",
   "execution_count": 138,
   "metadata": {
    "ExecuteTime": {
     "end_time": "2020-08-25T01:57:49.105099Z",
     "start_time": "2020-08-25T01:57:49.018630Z"
    }
   },
   "outputs": [
    {
     "name": "stdout",
     "output_type": "stream",
     "text": [
      "Training error = 0.08\n",
      "Test error = 0.08\n",
      "5801.333819793393\n"
     ]
    }
   ],
   "source": [
    "print(f\"Training error = {1 - linear_reg.score(X_train, y_train):.2f}\")\n",
    "print(f\"Test error = {1 - linear_reg.score(X_test, y_test):.2f}\")\n",
    "\n",
    "# RMSE\n",
    "print(np.sqrt(metrics.mean_squared_error(y_test, y_pred)))"
   ]
  },
  {
   "cell_type": "code",
   "execution_count": 146,
   "metadata": {
    "ExecuteTime": {
     "end_time": "2020-08-25T02:15:57.910257Z",
     "start_time": "2020-08-25T02:15:57.890340Z"
    }
   },
   "outputs": [
    {
     "name": "stdout",
     "output_type": "stream",
     "text": [
      "0.9168553158794981\n"
     ]
    },
    {
     "data": {
      "text/plain": [
       "0.9166869109739229"
      ]
     },
     "execution_count": 146,
     "metadata": {},
     "output_type": "execute_result"
    }
   ],
   "source": [
    "# R-squared:\n",
    "\n",
    "# LinearRegression(copy_X=True, fit_intercept=True, n_jobs=None,\n",
    "#     normalize=False)\n",
    "\n",
    "print(linear_reg.score(X_train,y_train))\n",
    "# 0.16118421052631582\n",
    "\n",
    "#y_pred=lr.predict(X)\n",
    "r2_score(y_test, y_pred)\n"
   ]
  },
  {
   "cell_type": "markdown",
   "metadata": {},
   "source": [
    "- Mean Absolute Error (MAE) is the mean of the absolute value of the errors.\n",
    "- Mean Squared Error (MSE) is the mean of the squared errors.\n",
    "- Root Mean Squared Error (RMSE) is the square root of the mean of the squared errors."
   ]
  },
  {
   "cell_type": "code",
   "execution_count": 152,
   "metadata": {
    "ExecuteTime": {
     "end_time": "2020-08-25T02:24:20.734804Z",
     "start_time": "2020-08-25T02:24:20.719742Z"
    }
   },
   "outputs": [
    {
     "name": "stdout",
     "output_type": "stream",
     "text": [
      "MAE: 1409.4428126026146\n",
      "MSE: 33655474.0886786\n",
      "RMSE: 5801.333819793393\n"
     ]
    }
   ],
   "source": [
    "print(f\"MAE: {metrics.mean_absolute_error(y_test,y_pred)}\")\n",
    "print(f\"MSE: {metrics.mean_squared_error(y_test, y_pred)}\")\n",
    "print(f\"RMSE: {np.sqrt(metrics.mean_squared_error(y_test, y_pred))}\") #units of y"
   ]
  },
  {
   "cell_type": "code",
   "execution_count": 155,
   "metadata": {
    "ExecuteTime": {
     "end_time": "2020-08-25T02:50:27.835029Z",
     "start_time": "2020-08-25T02:50:27.627402Z"
    }
   },
   "outputs": [
    {
     "data": {
      "text/html": [
       "<div>\n",
       "<style scoped>\n",
       "    .dataframe tbody tr th:only-of-type {\n",
       "        vertical-align: middle;\n",
       "    }\n",
       "\n",
       "    .dataframe tbody tr th {\n",
       "        vertical-align: top;\n",
       "    }\n",
       "\n",
       "    .dataframe thead th {\n",
       "        text-align: right;\n",
       "    }\n",
       "</style>\n",
       "<table border=\"1\" class=\"dataframe\">\n",
       "  <thead>\n",
       "    <tr style=\"text-align: right;\">\n",
       "      <th></th>\n",
       "      <th>features</th>\n",
       "      <th>coefs</th>\n",
       "    </tr>\n",
       "  </thead>\n",
       "  <tbody>\n",
       "    <tr>\n",
       "      <th>0</th>\n",
       "      <td>12-2011</td>\n",
       "      <td>2.005538</td>\n",
       "    </tr>\n",
       "    <tr>\n",
       "      <th>1</th>\n",
       "      <td>11-2011</td>\n",
       "      <td>2.626299</td>\n",
       "    </tr>\n",
       "    <tr>\n",
       "      <th>4</th>\n",
       "      <td>08-2011</td>\n",
       "      <td>2.773920</td>\n",
       "    </tr>\n",
       "    <tr>\n",
       "      <th>2</th>\n",
       "      <td>10-2011</td>\n",
       "      <td>3.600482</td>\n",
       "    </tr>\n",
       "    <tr>\n",
       "      <th>3</th>\n",
       "      <td>09-2011</td>\n",
       "      <td>4.414246</td>\n",
       "    </tr>\n",
       "    <tr>\n",
       "      <th>5</th>\n",
       "      <td>07-2011</td>\n",
       "      <td>5.475977</td>\n",
       "    </tr>\n",
       "  </tbody>\n",
       "</table>\n",
       "</div>"
      ],
      "text/plain": [
       "  features     coefs\n",
       "0  12-2011  2.005538\n",
       "1  11-2011  2.626299\n",
       "4  08-2011  2.773920\n",
       "2  10-2011  3.600482\n",
       "3  09-2011  4.414246\n",
       "5  07-2011  5.475977"
      ]
     },
     "execution_count": 155,
     "metadata": {},
     "output_type": "execute_result"
    }
   ],
   "source": [
    "pd.DataFrame({'features': X_train.columns,\n",
    "              'coefs': linear_reg.coef_[0]}).sort_values(by='coefs')"
   ]
  },
  {
   "cell_type": "markdown",
   "metadata": {},
   "source": [
    "### Final conclusion and next steps"
   ]
  },
  {
   "cell_type": "markdown",
   "metadata": {
    "ExecuteTime": {
     "end_time": "2020-08-25T03:35:51.336677Z",
     "start_time": "2020-08-25T03:35:51.329392Z"
    }
   },
   "source": [
    "The model has been trained to predict the CLV of the customer base. \n",
    "\n",
    "Overfitting has been considered in the development of the model to avoid the issue. The model doesn't seem overfitted because there is not much difference between the training error and test error. Overfitting is suspect when the error of the model significantly increases when I test the model with new data (test set). \n",
    "In this case, it seems that the model has captured peculiarities and patterns of the training data and is able to generalize well to unseen data.\n",
    "\n",
    "Next steps: \n",
    "\n",
    "- CLV prediction with current data\n",
    "- Customer segmentation based on CLV\n",
    "- Analayze predictions for each segment"
   ]
  },
  {
   "cell_type": "markdown",
   "metadata": {
    "ExecuteTime": {
     "end_time": "2020-08-25T03:34:23.560002Z",
     "start_time": "2020-08-25T03:34:23.543238Z"
    }
   },
   "source": [
    "### Appendix"
   ]
  },
  {
   "cell_type": "code",
   "execution_count": 158,
   "metadata": {
    "ExecuteTime": {
     "end_time": "2020-08-25T03:03:22.942690Z",
     "start_time": "2020-08-25T03:03:22.856847Z"
    }
   },
   "outputs": [],
   "source": [
    "#Create intercept for the model\n",
    "X = np.append(arr = np.ones((df_pivot.shape[0],1)).astype(int), values = X, axis = 1)\n"
   ]
  },
  {
   "cell_type": "code",
   "execution_count": 161,
   "metadata": {
    "ExecuteTime": {
     "end_time": "2020-08-25T03:06:05.316241Z",
     "start_time": "2020-08-25T03:06:05.135864Z"
    }
   },
   "outputs": [
    {
     "data": {
      "text/html": [
       "<table class=\"simpletable\">\n",
       "<caption>OLS Regression Results</caption>\n",
       "<tr>\n",
       "  <th>Dep. Variable:</th>           <td>CLV</td>       <th>  R-squared:         </th> <td>   0.951</td> \n",
       "</tr>\n",
       "<tr>\n",
       "  <th>Model:</th>                   <td>OLS</td>       <th>  Adj. R-squared:    </th> <td>   0.951</td> \n",
       "</tr>\n",
       "<tr>\n",
       "  <th>Method:</th>             <td>Least Squares</td>  <th>  F-statistic:       </th> <td>1.275e+04</td>\n",
       "</tr>\n",
       "<tr>\n",
       "  <th>Date:</th>             <td>Mon, 24 Aug 2020</td> <th>  Prob (F-statistic):</th>  <td>  0.00</td>  \n",
       "</tr>\n",
       "<tr>\n",
       "  <th>Time:</th>                 <td>20:06:05</td>     <th>  Log-Likelihood:    </th> <td> -37209.</td> \n",
       "</tr>\n",
       "<tr>\n",
       "  <th>No. Observations:</th>      <td>  3920</td>      <th>  AIC:               </th> <td>7.443e+04</td>\n",
       "</tr>\n",
       "<tr>\n",
       "  <th>Df Residuals:</th>          <td>  3913</td>      <th>  BIC:               </th> <td>7.448e+04</td>\n",
       "</tr>\n",
       "<tr>\n",
       "  <th>Df Model:</th>              <td>     6</td>      <th>                     </th>     <td> </td>    \n",
       "</tr>\n",
       "<tr>\n",
       "  <th>Covariance Type:</th>      <td>nonrobust</td>    <th>                     </th>     <td> </td>    \n",
       "</tr>\n",
       "</table>\n",
       "<table class=\"simpletable\">\n",
       "<tr>\n",
       "    <td></td>       <th>coef</th>     <th>std err</th>      <th>t</th>      <th>P>|t|</th>  <th>[0.025</th>    <th>0.975]</th>  \n",
       "</tr>\n",
       "<tr>\n",
       "  <th>const</th> <td>  434.6499</td> <td>   53.443</td> <td>    8.133</td> <td> 0.000</td> <td>  329.870</td> <td>  539.429</td>\n",
       "</tr>\n",
       "<tr>\n",
       "  <th>x1</th>    <td>    2.0198</td> <td>    0.019</td> <td>  106.759</td> <td> 0.000</td> <td>    1.983</td> <td>    2.057</td>\n",
       "</tr>\n",
       "<tr>\n",
       "  <th>x2</th>    <td>    1.8015</td> <td>    0.074</td> <td>   24.434</td> <td> 0.000</td> <td>    1.657</td> <td>    1.946</td>\n",
       "</tr>\n",
       "<tr>\n",
       "  <th>x3</th>    <td>    3.4316</td> <td>    0.062</td> <td>   55.372</td> <td> 0.000</td> <td>    3.310</td> <td>    3.553</td>\n",
       "</tr>\n",
       "<tr>\n",
       "  <th>x4</th>    <td>    2.8308</td> <td>    0.048</td> <td>   58.610</td> <td> 0.000</td> <td>    2.736</td> <td>    2.925</td>\n",
       "</tr>\n",
       "<tr>\n",
       "  <th>x5</th>    <td>    3.3908</td> <td>    0.085</td> <td>   40.110</td> <td> 0.000</td> <td>    3.225</td> <td>    3.557</td>\n",
       "</tr>\n",
       "<tr>\n",
       "  <th>x6</th>    <td>    6.1245</td> <td>    0.128</td> <td>   47.679</td> <td> 0.000</td> <td>    5.873</td> <td>    6.376</td>\n",
       "</tr>\n",
       "</table>\n",
       "<table class=\"simpletable\">\n",
       "<tr>\n",
       "  <th>Omnibus:</th>       <td>6582.070</td> <th>  Durbin-Watson:     </th>   <td>   1.851</td>  \n",
       "</tr>\n",
       "<tr>\n",
       "  <th>Prob(Omnibus):</th>  <td> 0.000</td>  <th>  Jarque-Bera (JB):  </th> <td>10236440.825</td>\n",
       "</tr>\n",
       "<tr>\n",
       "  <th>Skew:</th>           <td>10.998</td>  <th>  Prob(JB):          </th>   <td>    0.00</td>  \n",
       "</tr>\n",
       "<tr>\n",
       "  <th>Kurtosis:</th>       <td>252.376</td> <th>  Cond. No.          </th>   <td>2.86e+03</td>  \n",
       "</tr>\n",
       "</table><br/><br/>Warnings:<br/>[1] Standard Errors assume that the covariance matrix of the errors is correctly specified.<br/>[2] The condition number is large, 2.86e+03. This might indicate that there are<br/>strong multicollinearity or other numerical problems."
      ],
      "text/plain": [
       "<class 'statsmodels.iolib.summary.Summary'>\n",
       "\"\"\"\n",
       "                            OLS Regression Results                            \n",
       "==============================================================================\n",
       "Dep. Variable:                    CLV   R-squared:                       0.951\n",
       "Model:                            OLS   Adj. R-squared:                  0.951\n",
       "Method:                 Least Squares   F-statistic:                 1.275e+04\n",
       "Date:                Mon, 24 Aug 2020   Prob (F-statistic):               0.00\n",
       "Time:                        20:06:05   Log-Likelihood:                -37209.\n",
       "No. Observations:                3920   AIC:                         7.443e+04\n",
       "Df Residuals:                    3913   BIC:                         7.448e+04\n",
       "Df Model:                           6                                         \n",
       "Covariance Type:            nonrobust                                         \n",
       "==============================================================================\n",
       "                 coef    std err          t      P>|t|      [0.025      0.975]\n",
       "------------------------------------------------------------------------------\n",
       "const        434.6499     53.443      8.133      0.000     329.870     539.429\n",
       "x1             2.0198      0.019    106.759      0.000       1.983       2.057\n",
       "x2             1.8015      0.074     24.434      0.000       1.657       1.946\n",
       "x3             3.4316      0.062     55.372      0.000       3.310       3.553\n",
       "x4             2.8308      0.048     58.610      0.000       2.736       2.925\n",
       "x5             3.3908      0.085     40.110      0.000       3.225       3.557\n",
       "x6             6.1245      0.128     47.679      0.000       5.873       6.376\n",
       "==============================================================================\n",
       "Omnibus:                     6582.070   Durbin-Watson:                   1.851\n",
       "Prob(Omnibus):                  0.000   Jarque-Bera (JB):         10236440.825\n",
       "Skew:                          10.998   Prob(JB):                         0.00\n",
       "Kurtosis:                     252.376   Cond. No.                     2.86e+03\n",
       "==============================================================================\n",
       "\n",
       "Warnings:\n",
       "[1] Standard Errors assume that the covariance matrix of the errors is correctly specified.\n",
       "[2] The condition number is large, 2.86e+03. This might indicate that there are\n",
       "strong multicollinearity or other numerical problems.\n",
       "\"\"\""
      ]
     },
     "execution_count": 161,
     "metadata": {},
     "output_type": "execute_result"
    }
   ],
   "source": [
    "#p-values - Backward elimination\n",
    "\n",
    "regressor_OLS = sm.OLS(endog = y, exog = X).fit()\n",
    "regressor_OLS.summary()\n"
   ]
  },
  {
   "cell_type": "code",
   "execution_count": 168,
   "metadata": {
    "ExecuteTime": {
     "end_time": "2020-08-25T03:24:08.951781Z",
     "start_time": "2020-08-25T03:24:08.936073Z"
    }
   },
   "outputs": [
    {
     "data": {
      "text/plain": [
       "(3920, 15)"
      ]
     },
     "execution_count": 168,
     "metadata": {},
     "output_type": "execute_result"
    }
   ],
   "source": [
    "df_pivot.shape"
   ]
  },
  {
   "cell_type": "markdown",
   "metadata": {},
   "source": [
    "Issue highlighted: regression is not statistically significant while individual coefficients yes. "
   ]
  },
  {
   "cell_type": "markdown",
   "metadata": {
    "ExecuteTime": {
     "end_time": "2020-08-25T03:11:48.089446Z",
     "start_time": "2020-08-25T03:11:48.069212Z"
    }
   },
   "source": [
    "##### Multicollinearity"
   ]
  },
  {
   "cell_type": "code",
   "execution_count": 176,
   "metadata": {
    "ExecuteTime": {
     "end_time": "2020-08-25T03:30:31.215753Z",
     "start_time": "2020-08-25T03:30:30.459685Z"
    }
   },
   "outputs": [
    {
     "data": {
      "image/png": "[encoded data removed]",
      "text/plain": [
       "<Figure size 432x288 with 2 Axes>"
      ]
     },
     "metadata": {
      "needs_background": "light"
     },
     "output_type": "display_data"
    }
   ],
   "source": [
    "df_corr = df_pivot.iloc[:,6:14].corr()\n",
    "\n",
    "# Generate correlation heatmap\n",
    "ax = sns.heatmap(df_corr, center=0, cmap=sns.diverging_palette(20,220, n=256), square=True)\n",
    "ax.set_xticklabels(ax.get_xticklabels(), rotation=45, horizontalalignment='right')\n",
    "plt.show()\n"
   ]
  },
  {
   "cell_type": "markdown",
   "metadata": {},
   "source": [
    "### References:\n"
   ]
  },
  {
   "cell_type": "markdown",
   "metadata": {},
   "source": [
    "- https://towardsdatascience.com/data-driven-growth-with-python-part-3-customer-lifetime-value-prediction-6017802f2e0f\n",
    "\n",
    "- https://data-science-blog.com/blog/2020/03/19/how-important-is-customer-lifetime-value/\n",
    "\n",
    "- https://www.datacamp.com/community/tutorials/customer-life-time-value\n"
   ]
  },
  {
   "cell_type": "markdown",
   "metadata": {
    "ExecuteTime": {
     "end_time": "2020-08-25T03:31:11.209111Z",
     "start_time": "2020-08-25T03:31:11.203842Z"
    }
   },
   "source": []
  }
 ],
 "metadata": {
  "kernelspec": {
   "display_name": "Python 3",
   "language": "python",
   "name": "python3"
  },
  "language_info": {
   "codemirror_mode": {
    "name": "ipython",
    "version": 3
   },
   "file_extension": ".py",
   "mimetype": "text/x-python",
   "name": "python",
   "nbconvert_exporter": "python",
   "pygments_lexer": "ipython3",
   "version": "3.7.3"
  },
  "toc": {
   "base_numbering": 1,
   "nav_menu": {},
   "number_sections": true,
   "sideBar": true,
   "skip_h1_title": false,
   "title_cell": "Table of Contents",
   "title_sidebar": "Contents",
   "toc_cell": false,
   "toc_position": {
    "height": "calc(100% - 180px)",
    "left": "10px",
    "top": "150px",
    "width": "233px"
   },
   "toc_section_display": true,
   "toc_window_display": true
  },
  "varInspector": {
   "cols": {
    "lenName": 16,
    "lenType": 16,
    "lenVar": 40
   },
   "kernels_config": {
    "python": {
     "delete_cmd_postfix": "",
     "delete_cmd_prefix": "del ",
     "library": "var_list.py",
     "varRefreshCmd": "print(var_dic_list())"
    },
    "r": {
     "delete_cmd_postfix": ") ",
     "delete_cmd_prefix": "rm(",
     "library": "var_list.r",
     "varRefreshCmd": "cat(var_dic_list()) "
    }
   },
   "types_to_exclude": [
    "module",
    "function",
    "builtin_function_or_method",
    "instance",
    "_Feature"
   ],
   "window_display": false
  }
 },
 "nbformat": 4,
 "nbformat_minor": 2
}
